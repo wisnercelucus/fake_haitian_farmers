{
 "cells": [
  {
   "cell_type": "code",
   "execution_count": 1,
   "id": "06ea7f6d-5907-4783-9636-49cab600b20b",
   "metadata": {},
   "outputs": [],
   "source": [
    "import pandas as pd\n",
    "import math\n",
    "from typing import List\n",
    "from datetime import datetime\n",
    "from sqlalchemy import MetaData, Table, create_engine, text\n",
    "import matplotlib.pyplot as plt\n",
    "import seaborn as sns"
   ]
  },
  {
   "cell_type": "code",
   "execution_count": 2,
   "id": "a0ab528b-6eb3-4d56-bf11-f28775f6d301",
   "metadata": {},
   "outputs": [],
   "source": [
    "import sys\n",
    "import os"
   ]
  },
  {
   "cell_type": "code",
   "execution_count": 3,
   "id": "183e99a8-130d-4937-a1b7-39f0d93b2bb3",
   "metadata": {},
   "outputs": [],
   "source": [
    "engine = create_engine('sqlite:///pare.db')"
   ]
  },
  {
   "cell_type": "code",
   "execution_count": 7,
   "id": "fea467f3-dd66-4768-8f64-3ddca2c99da5",
   "metadata": {},
   "outputs": [],
   "source": [
    "sys.path.append(os.path.join(os.path.dirname('__file__'), 'models'))\n",
    "sys.path.append(os.path.join(os.path.dirname('__file__'), 'scripts'))\n",
    "sys.path.append(os.path.join(os.path.dirname('__file__'), 'config'))"
   ]
  },
  {
   "cell_type": "code",
   "execution_count": 8,
   "id": "bc4cc0e9-9c2e-4e11-a373-3bb1a67d17b0",
   "metadata": {},
   "outputs": [],
   "source": [
    "from config.params import DEBUG"
   ]
  },
  {
   "cell_type": "code",
   "execution_count": 9,
   "id": "d73a10a8-da98-4c29-96d4-e8419ee1d015",
   "metadata": {},
   "outputs": [],
   "source": [
    "from scripts.utils import random_item, random_date, random_date_between, random_int, years_between"
   ]
  },
  {
   "cell_type": "code",
   "execution_count": 11,
   "id": "082dfba5-3d91-4aff-b0cc-fc76c5ec4d90",
   "metadata": {},
   "outputs": [],
   "source": [
    "from models.attendance import Attendance"
   ]
  },
  {
   "cell_type": "code",
   "execution_count": null,
   "id": "fab37ca2-dc95-4f6c-8c71-2e882dec3acb",
   "metadata": {},
   "outputs": [],
   "source": []
  }
 ],
 "metadata": {
  "kernelspec": {
   "display_name": "Python 3 (ipykernel)",
   "language": "python",
   "name": "python3"
  },
  "language_info": {
   "codemirror_mode": {
    "name": "ipython",
    "version": 3
   },
   "file_extension": ".py",
   "mimetype": "text/x-python",
   "name": "python",
   "nbconvert_exporter": "python",
   "pygments_lexer": "ipython3",
   "version": "3.11.4"
  }
 },
 "nbformat": 4,
 "nbformat_minor": 5
}
