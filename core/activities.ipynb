{
 "cells": [
  {
   "cell_type": "code",
   "execution_count": 1,
   "id": "90810ba5-a84b-4488-9105-fd351b55ff7d",
   "metadata": {},
   "outputs": [],
   "source": [
    "import pandas as pd\n",
    "import math\n",
    "from typing import List\n",
    "from datetime import datetime\n",
    "from sqlalchemy import MetaData, Table, create_engine, text\n",
    "import matplotlib.pyplot as plt\n",
    "import seaborn as sns\n",
    "from sqlalchemy import Integer"
   ]
  },
  {
   "cell_type": "code",
   "execution_count": 2,
   "id": "a8ab70cf-5e2e-47fa-9961-3c52e94d028a",
   "metadata": {},
   "outputs": [],
   "source": [
    "import sys\n",
    "import os"
   ]
  },
  {
   "cell_type": "code",
   "execution_count": 3,
   "id": "77f94be5-c59f-4cc7-a9aa-00d06e9ca120",
   "metadata": {},
   "outputs": [],
   "source": [
    "engine = create_engine('sqlite:///pare.db')"
   ]
  },
  {
   "cell_type": "code",
   "execution_count": 4,
   "id": "57d96998-251e-446f-99ae-11540b9c7478",
   "metadata": {},
   "outputs": [],
   "source": [
    "sys.path.append(os.path.join(os.path.dirname('__file__'), 'models'))\n",
    "sys.path.append(os.path.join(os.path.dirname('__file__'), 'scripts'))\n",
    "sys.path.append(os.path.join(os.path.dirname('__file__'), 'config'))"
   ]
  },
  {
   "cell_type": "code",
   "execution_count": 5,
   "id": "c51f2eff-91ff-47ba-960f-ec722d86803c",
   "metadata": {},
   "outputs": [],
   "source": [
    "from config.params import DEBUG"
   ]
  },
  {
   "cell_type": "code",
   "execution_count": 6,
   "id": "d13350d1-c4cc-4808-b02f-58f0a431a83e",
   "metadata": {},
   "outputs": [],
   "source": [
    "from scripts.utils import random_item, random_date, random_date_between, random_int, years_between"
   ]
  },
  {
   "cell_type": "code",
   "execution_count": 7,
   "id": "21959a82-5a75-4cdb-a517-8022c2fc9221",
   "metadata": {},
   "outputs": [],
   "source": [
    "from models.activity import Activity, TypeOfActivity"
   ]
  },
  {
   "cell_type": "code",
   "execution_count": 8,
   "id": "a019913e-f3ab-4acc-911f-41f895e1e71f",
   "metadata": {},
   "outputs": [],
   "source": [
    "from scripts.constants import (JOINED_START_DATE, \n",
    "                                JOINED_END_DATE,)\n",
    "\n",
    "start_date = JOINED_START_DATE\n",
    "end_date = JOINED_END_DATE"
   ]
  },
  {
   "cell_type": "code",
   "execution_count": 9,
   "id": "73285328-8e55-4071-9a04-d6529308ad93",
   "metadata": {},
   "outputs": [],
   "source": [
    "partner_df = pd.read_sql('partners', con=engine)\n",
    "partner_list = partner_df.to_dict(orient='records')"
   ]
  },
  {
   "cell_type": "code",
   "execution_count": 10,
   "id": "93209727-e545-47cf-bc25-d05bf721a1c2",
   "metadata": {},
   "outputs": [],
   "source": [
    "activity_list = [\n",
    "    {\"name\": \"Training sesssion\", \"activity_type\": TypeOfActivity.capacity_building.value},\n",
    "    {\"name\": \"Input distribution\", \"activity_type\": TypeOfActivity.distrib_intrant.value},\n",
    "    {\"name\": \"Reunion de plaidoyer\", \"activity_type\": TypeOfActivity.reunion_de_plaidoyer.value},\n",
    "    {\"name\": \"Liaison avec le marché\", \"activity_type\": TypeOfActivity.liaison_avec_le_marche.value},\n",
    "    {\"name\": \"Autre\", \"activity_type\": TypeOfActivity.liaison_avec_le_marche.autre},\n",
    "]"
   ]
  },
  {
   "cell_type": "code",
   "execution_count": 11,
   "id": "b804cd0e-748c-4796-973f-2ca795fcd668",
   "metadata": {},
   "outputs": [
    {
     "data": {
      "text/plain": [
       "'Formation/renforcement des capacités'"
      ]
     },
     "execution_count": 11,
     "metadata": {},
     "output_type": "execute_result"
    }
   ],
   "source": [
    "TypeOfActivity.capacity_building.value"
   ]
  },
  {
   "cell_type": "code",
   "execution_count": 12,
   "id": "6361f51d-0a2e-444b-b94c-e10728f9f656",
   "metadata": {},
   "outputs": [],
   "source": [
    "#partner_df.head()"
   ]
  },
  {
   "cell_type": "code",
   "execution_count": 13,
   "id": "57d427b2-5823-4042-a11d-1f280ecb7d27",
   "metadata": {},
   "outputs": [],
   "source": [
    "desc_text = [\n",
    "    \"Video provides a powerful way to help you prove your point. When you click Online Video, you can paste in the embed code for the video you want to add. You can also type a keyword to search online for the video that best fits your document. To make your document look professionally produced, Word provides header, footer, cover page, and text box designs that complement each other.\",\n",
    "    \"For example, you can add a matching cover page, header, and sidebar. Click Insert and then choose the elements you want from the different galleries. Themes and styles also help keep your document coordinated. When you click Design and choose a new Theme, the pictures, charts, and SmartArt graphics change to match your new theme.\",\n",
    "    \"When you apply styles, your headings change to match the new theme. Save time in Word with new buttons that show up where you need them. To change the way a picture fits in your document, click it and a button for layout options appears next to it. When you work on a table, click where you want to add a row or a column, and then click the plus sign.\",\n",
    "    \"Reading is easier, too, in the new Reading view. You can collapse parts of the document and focus on the text you want. If you need to stop reading before you reach the end, Word remembers where you left off - even on another device. Video provides a powerful way to help you prove your point.\",\n",
    "    \"When you click Online Video, you can paste in the embed code for the video you want to add. You can also type a keyword to search online for the video that best fits your document. To make your document look professionally produced, Word provides header, footer, cover page, and text box designs that complement each other. For example, you can add a matching cover page, header, and sidebar.\",\n",
    "    \"Click Insert and then choose the elements you want from the different galleries. Themes and styles also help keep your document coordinated. When you click Design and choose a new Theme, the pictures, charts, and SmartArt graphics change to match your new theme. When you apply styles, your headings change to match the new theme.\",\n",
    "    \"Save time in Word with new buttons that show up where you need them. To change the way a picture fits in your document, click it and a button for layout options appears next to it. When you work on a table, click where you want to add a row or a column, and then click the plus sign. Reading is easier, too, in the new Reading view.\",\n",
    "    \"You can collapse parts of the document and focus on the text you want. If you need to stop reading before you reach the end, Word remembers where you left off - even on another device. Video provides a powerful way to help you prove your point. When you click Online Video, you can paste in the embed code for the video you want to add.\",\n",
    "    \"You can also type a keyword to search online for the video that best fits your document. To make your document look professionally produced, Word provides header, footer, cover page, and text box designs that complement each other. For example, you can add a matching cover page, header, and sidebar. Click Insert and then choose the elements you want from the different galleries.\",\n",
    "    \"Themes and styles also help keep your document coordinated. When you click Design and choose a new Theme, the pictures, charts, and SmartArt graphics change to match your new theme. When you apply styles, your headings change to match the new theme. Save time in Word with new buttons that show up where you need them.\",\n",
    "]"
   ]
  },
  {
   "cell_type": "code",
   "execution_count": 14,
   "id": "bf68eda3-9093-43b7-9e45-2e7b431cfecc",
   "metadata": {},
   "outputs": [],
   "source": [
    "# generate activity\n",
    "\n",
    "\n",
    "\n",
    "def generate_activity(activity_list, partner_list, desc_text, pk) -> Activity:\n",
    "    rand_activity = random_item(activity_list)\n",
    "    desc = random_item(desc_text)\n",
    "    partner = random_item(partner_list)\n",
    "    max_participant = 1000\n",
    "    min_participant = 10\n",
    "    total_male_participant = random_int(min_participant, max_participant)\n",
    "    total_female_participant = random_int(min_participant, max_participant)\n",
    "    total_participant = total_male_participant + total_female_participant\n",
    "    \n",
    "    total_male_youth_participant =  random_int(0, total_male_participant)\n",
    "    total_female_youth_participant = random_int(0, total_female_participant)\n",
    "    \n",
    "    total_youth = total_male_youth_participant +  total_female_youth_participant \n",
    "\n",
    "    activity = Activity(\n",
    "        id=pk,\n",
    "        name =  rand_activity.get(\"name\"),\n",
    "        community_id = partner[\"community_id\"],\n",
    "        partner_id = partner[\"id\"],\n",
    "        activity_type = rand_activity.get(\"activity_type\"),\n",
    "        total_participant = total_participant,\n",
    "        total_male_participant = total_male_participant,\n",
    "        total_female_participant = total_female_participant,\n",
    "        total_male_youth_participant = total_male_youth_participant,\n",
    "        total_female_youth_participant = total_female_youth_participant,\n",
    "        total_youth_participant =  total_youth,\n",
    "        description = desc,\n",
    "        date = random_date_between(start_date, end_date)\n",
    "    )\n",
    "    #create the activity with a random name and a type\n",
    "\n",
    "    #get a random start and end date\n",
    "\n",
    "    return activity  \n",
    "    "
   ]
  },
  {
   "cell_type": "code",
   "execution_count": 15,
   "id": "beb90308-b60d-4da4-8a37-8bb826994dfa",
   "metadata": {},
   "outputs": [],
   "source": [
    "#partner = random_item(partner_list)"
   ]
  },
  {
   "cell_type": "code",
   "execution_count": null,
   "id": "3b467d87-5e73-49ec-a4c4-b0ee9bc6c34f",
   "metadata": {},
   "outputs": [],
   "source": []
  },
  {
   "cell_type": "code",
   "execution_count": 16,
   "id": "ec752a45-e638-41fc-a786-9f91a1e1075f",
   "metadata": {},
   "outputs": [],
   "source": [
    "activities = []\n",
    "\n",
    "for i in range(500):\n",
    "    activities.append(generate_activity(activity_list, partner_list, desc_text, i).dict())"
   ]
  },
  {
   "cell_type": "code",
   "execution_count": null,
   "id": "da3bd2e8-0740-40c0-b3af-867fcd453da2",
   "metadata": {},
   "outputs": [],
   "source": []
  },
  {
   "cell_type": "code",
   "execution_count": 17,
   "id": "de0baa05-22f3-40bb-9b20-41fda3441189",
   "metadata": {},
   "outputs": [],
   "source": [
    "activity_df = pd.DataFrame(activities)"
   ]
  },
  {
   "cell_type": "code",
   "execution_count": 18,
   "id": "d8a7be2a-f773-41b7-b841-5d4d79fc8583",
   "metadata": {},
   "outputs": [
    {
     "data": {
      "text/html": [
       "<div>\n",
       "<style scoped>\n",
       "    .dataframe tbody tr th:only-of-type {\n",
       "        vertical-align: middle;\n",
       "    }\n",
       "\n",
       "    .dataframe tbody tr th {\n",
       "        vertical-align: top;\n",
       "    }\n",
       "\n",
       "    .dataframe thead th {\n",
       "        text-align: right;\n",
       "    }\n",
       "</style>\n",
       "<table border=\"1\" class=\"dataframe\">\n",
       "  <thead>\n",
       "    <tr style=\"text-align: right;\">\n",
       "      <th></th>\n",
       "      <th>id</th>\n",
       "      <th>name</th>\n",
       "      <th>community_id</th>\n",
       "      <th>partner_id</th>\n",
       "      <th>activity_type</th>\n",
       "      <th>total_participant</th>\n",
       "      <th>total_male_participant</th>\n",
       "      <th>total_female_participant</th>\n",
       "      <th>total_male_youth_participant</th>\n",
       "      <th>total_female_youth_participant</th>\n",
       "      <th>total_youth_participant</th>\n",
       "      <th>description</th>\n",
       "      <th>date</th>\n",
       "    </tr>\n",
       "  </thead>\n",
       "  <tbody>\n",
       "    <tr>\n",
       "      <th>0</th>\n",
       "      <td>0</td>\n",
       "      <td>Autre</td>\n",
       "      <td>196</td>\n",
       "      <td>97</td>\n",
       "      <td>Autre</td>\n",
       "      <td>1700</td>\n",
       "      <td>882</td>\n",
       "      <td>818</td>\n",
       "      <td>642</td>\n",
       "      <td>179</td>\n",
       "      <td>821</td>\n",
       "      <td>You can also type a keyword to search online f...</td>\n",
       "      <td>2024-03-12</td>\n",
       "    </tr>\n",
       "    <tr>\n",
       "      <th>1</th>\n",
       "      <td>1</td>\n",
       "      <td>Reunion de plaidoyer</td>\n",
       "      <td>179</td>\n",
       "      <td>92</td>\n",
       "      <td>Réunion de plaidoyer</td>\n",
       "      <td>228</td>\n",
       "      <td>209</td>\n",
       "      <td>19</td>\n",
       "      <td>78</td>\n",
       "      <td>8</td>\n",
       "      <td>86</td>\n",
       "      <td>Reading is easier, too, in the new Reading vie...</td>\n",
       "      <td>2027-07-12</td>\n",
       "    </tr>\n",
       "    <tr>\n",
       "      <th>2</th>\n",
       "      <td>2</td>\n",
       "      <td>Reunion de plaidoyer</td>\n",
       "      <td>158</td>\n",
       "      <td>22</td>\n",
       "      <td>Réunion de plaidoyer</td>\n",
       "      <td>951</td>\n",
       "      <td>662</td>\n",
       "      <td>289</td>\n",
       "      <td>285</td>\n",
       "      <td>82</td>\n",
       "      <td>367</td>\n",
       "      <td>Themes and styles also help keep your document...</td>\n",
       "      <td>2024-05-29</td>\n",
       "    </tr>\n",
       "    <tr>\n",
       "      <th>3</th>\n",
       "      <td>3</td>\n",
       "      <td>Liaison avec le marché</td>\n",
       "      <td>157</td>\n",
       "      <td>211</td>\n",
       "      <td>Liaison avec le marché</td>\n",
       "      <td>1003</td>\n",
       "      <td>41</td>\n",
       "      <td>962</td>\n",
       "      <td>22</td>\n",
       "      <td>210</td>\n",
       "      <td>232</td>\n",
       "      <td>Save time in Word with new buttons that show u...</td>\n",
       "      <td>2027-08-09</td>\n",
       "    </tr>\n",
       "    <tr>\n",
       "      <th>4</th>\n",
       "      <td>4</td>\n",
       "      <td>Input distribution</td>\n",
       "      <td>16</td>\n",
       "      <td>107</td>\n",
       "      <td>Distribution d'intrants</td>\n",
       "      <td>1663</td>\n",
       "      <td>982</td>\n",
       "      <td>681</td>\n",
       "      <td>461</td>\n",
       "      <td>192</td>\n",
       "      <td>653</td>\n",
       "      <td>For example, you can add a matching cover page...</td>\n",
       "      <td>2025-05-30</td>\n",
       "    </tr>\n",
       "  </tbody>\n",
       "</table>\n",
       "</div>"
      ],
      "text/plain": [
       "   id                    name  community_id  partner_id  \\\n",
       "0   0                   Autre           196          97   \n",
       "1   1    Reunion de plaidoyer           179          92   \n",
       "2   2    Reunion de plaidoyer           158          22   \n",
       "3   3  Liaison avec le marché           157         211   \n",
       "4   4      Input distribution            16         107   \n",
       "\n",
       "             activity_type  total_participant  total_male_participant  \\\n",
       "0                    Autre               1700                     882   \n",
       "1     Réunion de plaidoyer                228                     209   \n",
       "2     Réunion de plaidoyer                951                     662   \n",
       "3   Liaison avec le marché               1003                      41   \n",
       "4  Distribution d'intrants               1663                     982   \n",
       "\n",
       "   total_female_participant  total_male_youth_participant  \\\n",
       "0                       818                           642   \n",
       "1                        19                            78   \n",
       "2                       289                           285   \n",
       "3                       962                            22   \n",
       "4                       681                           461   \n",
       "\n",
       "   total_female_youth_participant  total_youth_participant  \\\n",
       "0                             179                      821   \n",
       "1                               8                       86   \n",
       "2                              82                      367   \n",
       "3                             210                      232   \n",
       "4                             192                      653   \n",
       "\n",
       "                                         description        date  \n",
       "0  You can also type a keyword to search online f...  2024-03-12  \n",
       "1  Reading is easier, too, in the new Reading vie...  2027-07-12  \n",
       "2  Themes and styles also help keep your document...  2024-05-29  \n",
       "3  Save time in Word with new buttons that show u...  2027-08-09  \n",
       "4  For example, you can add a matching cover page...  2025-05-30  "
      ]
     },
     "execution_count": 18,
     "metadata": {},
     "output_type": "execute_result"
    }
   ],
   "source": [
    "activity_df.head()"
   ]
  },
  {
   "cell_type": "code",
   "execution_count": 19,
   "id": "349e97be-015e-43a9-8690-e7e295911270",
   "metadata": {},
   "outputs": [],
   "source": [
    "#activity_df.to_csv(\"./outputs/activities.csv\")"
   ]
  },
  {
   "cell_type": "code",
   "execution_count": 20,
   "id": "8068df8a-7cee-4d0b-bd78-ac0b64822c40",
   "metadata": {},
   "outputs": [
    {
     "data": {
      "text/plain": [
       "500"
      ]
     },
     "execution_count": 20,
     "metadata": {},
     "output_type": "execute_result"
    }
   ],
   "source": [
    "activity_df.to_sql('activities', con=engine, if_exists='replace', index=False, dtype={'id': Integer, 'partner_id': Integer, 'community_id': Integer})"
   ]
  },
  {
   "cell_type": "code",
   "execution_count": null,
   "id": "e7664b9b-e6ef-4453-ba56-976ddf1e5fee",
   "metadata": {},
   "outputs": [],
   "source": []
  }
 ],
 "metadata": {
  "kernelspec": {
   "display_name": "Python 3 (ipykernel)",
   "language": "python",
   "name": "python3"
  },
  "language_info": {
   "codemirror_mode": {
    "name": "ipython",
    "version": 3
   },
   "file_extension": ".py",
   "mimetype": "text/x-python",
   "name": "python",
   "nbconvert_exporter": "python",
   "pygments_lexer": "ipython3",
   "version": "3.11.4"
  }
 },
 "nbformat": 4,
 "nbformat_minor": 5
}
