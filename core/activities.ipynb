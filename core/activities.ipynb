{
 "cells": [
  {
   "cell_type": "code",
   "execution_count": 1,
   "id": "90810ba5-a84b-4488-9105-fd351b55ff7d",
   "metadata": {},
   "outputs": [],
   "source": [
    "import pandas as pd\n",
    "import math\n",
    "from typing import List\n",
    "from datetime import datetime\n",
    "from sqlalchemy import MetaData, Table, create_engine, text\n",
    "import matplotlib.pyplot as plt\n",
    "import seaborn as sns"
   ]
  },
  {
   "cell_type": "code",
   "execution_count": 2,
   "id": "a8ab70cf-5e2e-47fa-9961-3c52e94d028a",
   "metadata": {},
   "outputs": [],
   "source": [
    "import sys\n",
    "import os"
   ]
  },
  {
   "cell_type": "code",
   "execution_count": 3,
   "id": "77f94be5-c59f-4cc7-a9aa-00d06e9ca120",
   "metadata": {},
   "outputs": [],
   "source": [
    "engine = create_engine('sqlite:///pare.db')"
   ]
  },
  {
   "cell_type": "code",
   "execution_count": 4,
   "id": "57d96998-251e-446f-99ae-11540b9c7478",
   "metadata": {},
   "outputs": [],
   "source": [
    "sys.path.append(os.path.join(os.path.dirname('__file__'), 'models'))\n",
    "sys.path.append(os.path.join(os.path.dirname('__file__'), 'scripts'))\n",
    "sys.path.append(os.path.join(os.path.dirname('__file__'), 'config'))"
   ]
  },
  {
   "cell_type": "code",
   "execution_count": 5,
   "id": "c51f2eff-91ff-47ba-960f-ec722d86803c",
   "metadata": {},
   "outputs": [],
   "source": [
    "from config.params import DEBUG"
   ]
  },
  {
   "cell_type": "code",
   "execution_count": 6,
   "id": "d13350d1-c4cc-4808-b02f-58f0a431a83e",
   "metadata": {},
   "outputs": [],
   "source": [
    "from scripts.utils import random_item, random_date, random_date_between, random_int, years_between"
   ]
  },
  {
   "cell_type": "code",
   "execution_count": 7,
   "id": "21959a82-5a75-4cdb-a517-8022c2fc9221",
   "metadata": {},
   "outputs": [],
   "source": [
    "from models.activity import Activity"
   ]
  },
  {
   "cell_type": "code",
   "execution_count": null,
   "id": "73285328-8e55-4071-9a04-d6529308ad93",
   "metadata": {},
   "outputs": [],
   "source": []
  }
 ],
 "metadata": {
  "kernelspec": {
   "display_name": "Python 3 (ipykernel)",
   "language": "python",
   "name": "python3"
  },
  "language_info": {
   "codemirror_mode": {
    "name": "ipython",
    "version": 3
   },
   "file_extension": ".py",
   "mimetype": "text/x-python",
   "name": "python",
   "nbconvert_exporter": "python",
   "pygments_lexer": "ipython3",
   "version": "3.11.4"
  }
 },
 "nbformat": 4,
 "nbformat_minor": 5
}
