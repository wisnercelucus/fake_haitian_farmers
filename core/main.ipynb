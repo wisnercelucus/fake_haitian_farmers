{
 "cells": [
  {
   "cell_type": "code",
   "execution_count": 1,
   "id": "04befbd9-0a87-4ce0-926e-d87a4ab6841a",
   "metadata": {},
   "outputs": [],
   "source": [
    "import pandas as pd\n",
    "import math\n",
    "from typing import List\n",
    "from datetime import datetime\n"
   ]
  },
  {
   "cell_type": "code",
   "execution_count": 44,
   "id": "230b946b-7f5f-4868-a92f-3a8959494c36",
   "metadata": {},
   "outputs": [],
   "source": [
    "test = True"
   ]
  },
  {
   "cell_type": "code",
   "execution_count": 2,
   "id": "3b3ee0a2-cf94-43e8-978e-f6260f595cf6",
   "metadata": {},
   "outputs": [],
   "source": [
    "import sys\n",
    "import os"
   ]
  },
  {
   "cell_type": "code",
   "execution_count": 3,
   "id": "edaf5918-6145-48f2-a72e-37e4aad1fae9",
   "metadata": {},
   "outputs": [],
   "source": [
    "sys.path.append(os.path.join(os.path.dirname('__file__'), 'models'))\n",
    "sys.path.append(os.path.join(os.path.dirname('__file__'), 'scripts'))"
   ]
  },
  {
   "cell_type": "code",
   "execution_count": 4,
   "id": "1df347d3-468d-40c7-ae6c-86ee3389aa14",
   "metadata": {},
   "outputs": [],
   "source": [
    "from models.Person import Person, Sex, TypePerson"
   ]
  },
  {
   "cell_type": "code",
   "execution_count": 5,
   "id": "5378ae89-417c-41e5-b93a-505c0935ff59",
   "metadata": {},
   "outputs": [],
   "source": [
    "from scripts.utils import random_item, random_date, random_date_between, random_int, years_between"
   ]
  },
  {
   "cell_type": "code",
   "execution_count": 6,
   "id": "e36ddafc-a21c-4500-bf90-86e4fe4bf2ce",
   "metadata": {},
   "outputs": [],
   "source": [
    "haitian_names = pd.read_csv(\"./inputs/haitian_names.csv\", encoding=\"latin-1\")\n",
    "kobo_df = pd.read_csv(\"./inputs/kobo_local.csv\", encoding=\"latin-1\")"
   ]
  },
  {
   "cell_type": "code",
   "execution_count": 7,
   "id": "c01cfa35-af13-408e-97ce-e662de05d1cb",
   "metadata": {},
   "outputs": [],
   "source": [
    "h_fnames = list(haitian_names['FirstName'])"
   ]
  },
  {
   "cell_type": "code",
   "execution_count": 8,
   "id": "d4d94553-8cb9-42c9-8121-2a34052dfcb2",
   "metadata": {},
   "outputs": [],
   "source": [
    "h_mnames = list(haitian_names['MiddleName'])"
   ]
  },
  {
   "cell_type": "code",
   "execution_count": 9,
   "id": "134fdad0-1785-425f-bbdc-404fef8ec6c3",
   "metadata": {},
   "outputs": [],
   "source": [
    "h_lnames = list(haitian_names['LastName'])"
   ]
  },
  {
   "cell_type": "code",
   "execution_count": 10,
   "id": "d56b9621-0cc2-44ec-884c-8c970dbe146f",
   "metadata": {},
   "outputs": [],
   "source": [
    "def get_fullname():\n",
    "    f_name = random_item(h_fnames)\n",
    "    m_name = random_item(h_mnames)\n",
    "    l_name = random_item(h_lnames).upper()\n",
    "    name = \"\"\n",
    "    if isinstance(m_name, float):\n",
    "        name = (f_name + \" \" + l_name).strip()\n",
    "    else:\n",
    "        if m_name != 'nan':\n",
    "            name = (f_name + \" \" + m_name + \" \" + l_name).strip()\n",
    "        else:\n",
    "            name = (f_name + \" \" + m_name + \" \" + l_name).strip()\n",
    "    return name"
   ]
  },
  {
   "cell_type": "code",
   "execution_count": 11,
   "id": "8c909160-e9d2-4a2c-b9fa-1485b333175b",
   "metadata": {},
   "outputs": [],
   "source": [
    "def get_first_name(h_fnames, h_mnames):\n",
    "    f_name = random_item(h_fnames)\n",
    "    m_name = random_item(h_mnames)\n",
    "    name = \"\"\n",
    "    if isinstance(m_name, float):\n",
    "        name = f_name\n",
    "    else:\n",
    "        if m_name != 'nan':\n",
    "            name = (f_name + \" \" + m_name).strip()\n",
    "        else:\n",
    "            name = (f_name).strip()\n",
    "    return name\n",
    "\n",
    "\n",
    "def get_last_name(h_lnames):\n",
    "    return random_item(h_lnames)"
   ]
  },
  {
   "cell_type": "code",
   "execution_count": 12,
   "id": "ea68ce01-8d92-4dcf-a879-f419137f0687",
   "metadata": {},
   "outputs": [],
   "source": [
    "#print(get_fullname())"
   ]
  },
  {
   "cell_type": "code",
   "execution_count": 13,
   "id": "ed60acf8-7d3f-479b-af67-ec303a9411e1",
   "metadata": {},
   "outputs": [],
   "source": [
    "#kobo_df"
   ]
  },
  {
   "cell_type": "code",
   "execution_count": 14,
   "id": "3c4fce3b-a7b6-4295-a6d3-3e6ed3f1954b",
   "metadata": {},
   "outputs": [],
   "source": [
    "#departments_with_communes = kobo_df.groupby(['Departements', 'Communes', ])['Section communale/Ville'].apply(lambda x: list(set(x))).reset_index()\n",
    "# Convert to an array (list of dictionaries)\n",
    "#result = departments_with_communes.to_dict(orient='records')"
   ]
  },
  {
   "cell_type": "code",
   "execution_count": 15,
   "id": "8c17dfad-ba5e-43c6-a943-0d295dab2475",
   "metadata": {},
   "outputs": [],
   "source": [
    "#communes_with_sections = []\n",
    "#for depart in result:\n",
    "#    communes_with_sections.append(\n",
    "#        {'name': depart[\"Communes\"], \"Department\": depart['Departements'], \"sections\": depart['Section communale/Ville'] }\n",
    "#    )"
   ]
  },
  {
   "cell_type": "code",
   "execution_count": 16,
   "id": "06201420-d0a6-4feb-8949-586153c29d8d",
   "metadata": {},
   "outputs": [],
   "source": [
    "#len(communes_with_sections )"
   ]
  },
  {
   "cell_type": "code",
   "execution_count": 17,
   "id": "710c325a-4c15-45be-8459-cca5d0eeb93e",
   "metadata": {},
   "outputs": [],
   "source": [
    "#departments_with_communes = kobo_df.groupby(['Departements', 'Communes', 'Section communale/Ville'])['Communauté/Addresse'].apply(lambda x: list(set(x))).reset_index()\n",
    "#result2 = departments_with_communes.to_dict(orient='records')"
   ]
  },
  {
   "cell_type": "code",
   "execution_count": 18,
   "id": "094c4918-1d0e-4333-8ccc-fa2e28b40ac9",
   "metadata": {},
   "outputs": [],
   "source": [
    "#kobo_df"
   ]
  },
  {
   "cell_type": "code",
   "execution_count": 19,
   "id": "b3359cf4-0936-4eae-a582-e8ebf82dfe57",
   "metadata": {},
   "outputs": [],
   "source": [
    "#communes_with_sections_locals = []\n",
    "#for depart in result2:\n",
    "#    communes_with_sections_locals.append(\n",
    "#        {'name': depart[\"Communes\"], \"Department\": depart['Departements'], \"sections\": depart['Section communale/Ville'], 'communities':depart['Communauté/Addresse'] }\n",
    "#    )"
   ]
  },
  {
   "cell_type": "code",
   "execution_count": 20,
   "id": "3d447483-923a-4d10-90af-72f1f4de04c0",
   "metadata": {},
   "outputs": [],
   "source": [
    "#communes_with_sections_locals"
   ]
  },
  {
   "cell_type": "code",
   "execution_count": null,
   "id": "2d84257d-9332-4dc9-bda2-12e438652efb",
   "metadata": {},
   "outputs": [],
   "source": []
  },
  {
   "cell_type": "code",
   "execution_count": 21,
   "id": "d2fb2fc1-72b7-4282-9209-f5355eca04b8",
   "metadata": {},
   "outputs": [],
   "source": [
    "#kobo_df"
   ]
  },
  {
   "cell_type": "code",
   "execution_count": 22,
   "id": "eeb404f1-9681-4b40-b938-121ca51f1a6f",
   "metadata": {},
   "outputs": [],
   "source": [
    "departments_with_structure = (\n",
    "    kobo_df.groupby(['Departements', 'Communes', 'Section communale/Ville', 'Communauté/Addresse'])['Coordonnée GPS']\n",
    "    .first()\n",
    "    .reset_index()\n",
    "    .groupby(['Departements', 'Communes', 'Section communale/Ville'])\n",
    "    .apply(lambda x: x[['Communauté/Addresse', 'Coordonnée GPS']].to_dict(orient='records'), include_groups=False)\n",
    "    .reset_index(name='Communauté/Addresse')\n",
    "    .groupby(['Departements', 'Communes'])\n",
    "    .apply(lambda x: x[['Section communale/Ville', 'Communauté/Addresse']].to_dict(orient='records'), include_groups=False)\n",
    "    .reset_index(name='Section communale/Ville')\n",
    "    .groupby('Departements')\n",
    "    .apply(lambda x: x[['Communes', 'Section communale/Ville']].to_dict(orient='records'), include_groups=False)\n",
    "    .reset_index(name='Communes')\n",
    ")\n",
    "result4 = departments_with_structure.to_dict(orient='records')"
   ]
  },
  {
   "cell_type": "code",
   "execution_count": 23,
   "id": "64a69eec-084b-4e65-9ca1-d8844a54e75a",
   "metadata": {},
   "outputs": [],
   "source": [
    "#result4[0]"
   ]
  },
  {
   "cell_type": "code",
   "execution_count": 24,
   "id": "005fd845-044b-433f-94ce-cd596533cb0b",
   "metadata": {},
   "outputs": [],
   "source": [
    "def get_department(data: list) -> dict:\n",
    "    return random_item(data)\n",
    "\n",
    "def get_commune(data: list) -> dict:\n",
    "    return random_item(data)\n",
    "\n",
    "def get_section(data: list) -> dict:\n",
    "    return random_item(data)\n",
    "\n",
    "def get_community(data: list) -> dict:\n",
    "    return random_item(data)    \n",
    "\n",
    "def get_gps_location(community: dict) -> tuple:\n",
    "    gps_location = community['Coordonnée GPS'] \n",
    "    if gps_location is None:\n",
    "        return (0,0) \n",
    "    if gps_location == '':\n",
    "        return (0,0)\n",
    "    gps_parts = gps_location.split(\" \")\n",
    "    return (float(gps_parts[0]), float(gps_parts[1])) "
   ]
  },
  {
   "cell_type": "code",
   "execution_count": 25,
   "id": "8b155c4c-d5d6-4f9c-bf47-92308679df0f",
   "metadata": {},
   "outputs": [],
   "source": [
    "birth_date_start = datetime(1940, 1, 1)\n",
    "birth_date_end = datetime(2009, 1, 1)\n",
    "\n",
    "joined_start_date = datetime(2024, 1, 1)\n",
    "joined_end_date = datetime(2027, 12, 31)\n",
    "\n",
    "#random_date = random_date_between(birth_date_start, birth_date_end)\n",
    "#random_date = random_date_between(joined_start_date, joined_end_date )\n",
    "#print(random_date)"
   ]
  },
  {
   "cell_type": "code",
   "execution_count": null,
   "id": "5f6298de-7b2f-4428-941b-b3d4cdfca77f",
   "metadata": {},
   "outputs": [],
   "source": []
  },
  {
   "cell_type": "code",
   "execution_count": 26,
   "id": "6c42e747-5238-45f4-b31f-e7f8e78547bd",
   "metadata": {},
   "outputs": [],
   "source": [
    "#department = get_department(result4)"
   ]
  },
  {
   "cell_type": "code",
   "execution_count": 27,
   "id": "31b53c1b-7af0-45b9-beba-b07febbcccc4",
   "metadata": {},
   "outputs": [],
   "source": [
    "#commune = get_commune(department[\"Communes\"])"
   ]
  },
  {
   "cell_type": "code",
   "execution_count": 28,
   "id": "9c7d11a3-8cda-4258-ae62-21a01b429e35",
   "metadata": {},
   "outputs": [],
   "source": [
    "#section = get_section(commune['Section communale/Ville'])\n",
    "#section"
   ]
  },
  {
   "cell_type": "code",
   "execution_count": 29,
   "id": "35a4a389-f712-4e0c-9a46-f265420eaba2",
   "metadata": {},
   "outputs": [],
   "source": [
    "#community = get_community(section['Communauté/Addresse'])"
   ]
  },
  {
   "cell_type": "code",
   "execution_count": 30,
   "id": "56c8f1ef-c5de-4574-955b-74143df024b5",
   "metadata": {},
   "outputs": [],
   "source": [
    "#get_gps_location(community)"
   ]
  },
  {
   "cell_type": "code",
   "execution_count": 45,
   "id": "124d7385-3480-4d3c-b9cc-8ba0362f6870",
   "metadata": {},
   "outputs": [],
   "source": [
    "if not test:\n",
    "    participants = []\n",
    "    sexes = [Sex.male, Sex.female]\n",
    "    type_p = [TypePerson.type_1, \n",
    "              TypePerson.type_2, \n",
    "              TypePerson.type_3, \n",
    "              TypePerson.type_4, \n",
    "              TypePerson.type_5, \n",
    "              TypePerson.type_6]\n",
    "    \n",
    "    for i in range(30141):\n",
    "        department = get_department(result4)\n",
    "        commune = get_commune(department[\"Communes\"])\n",
    "        section = get_section(commune['Section communale/Ville'])\n",
    "        community = get_community(section['Communauté/Addresse'])\n",
    "        gps = get_gps_location(community)\n",
    "        \n",
    "        person: Person = Person(\n",
    "               first_name = get_first_name(h_fnames, h_mnames),\n",
    "               last_name = get_last_name(h_lnames),\n",
    "               sex=random_item(sexes).value,\n",
    "               address=community['Communauté/Addresse'],\n",
    "               phone_1='33511661',\n",
    "               birth_date = random_date_between(birth_date_start, birth_date_end),\n",
    "               date_joined = random_date_between(joined_start_date, joined_end_date ),\n",
    "               nb_goat = random_int(0, 25),\n",
    "               nb_cattle= random_int(0, 10),\n",
    "               nb_sheep = random_int(0, 25),\n",
    "               nb_poultry = random_int(0, 100),\n",
    "               gps_lat = gps[0],\n",
    "               gps_lng = gps[1],\n",
    "               type_person = random_item(type_p).value\n",
    "        )\n",
    "        participants.append(person)"
   ]
  },
  {
   "cell_type": "code",
   "execution_count": 32,
   "id": "dfdb6c2f-3875-4bcd-80d6-9aa073839b66",
   "metadata": {},
   "outputs": [],
   "source": [
    "participants\n",
    "people_dicts = [person.dict() for person in participants]\n",
    "df = pd.DataFrame(people_dicts)"
   ]
  },
  {
   "cell_type": "code",
   "execution_count": 33,
   "id": "deecec6f-7bdd-4ef1-a11e-ed7a930f6a40",
   "metadata": {},
   "outputs": [],
   "source": [
    "#df.head()"
   ]
  },
  {
   "cell_type": "code",
   "execution_count": 34,
   "id": "a20c249a-97d4-4b8c-8235-66f4dda36336",
   "metadata": {},
   "outputs": [],
   "source": [
    "today = datetime.today()"
   ]
  },
  {
   "cell_type": "code",
   "execution_count": 35,
   "id": "975e6be8-2f6b-4cea-bb51-587ed1ab6557",
   "metadata": {},
   "outputs": [],
   "source": [
    "ages = [years_between(today.date(), d) for d in df['birth_date']]"
   ]
  },
  {
   "cell_type": "code",
   "execution_count": 36,
   "id": "4d6d3e38-8e2f-4c11-814c-88441441bfc5",
   "metadata": {},
   "outputs": [],
   "source": [
    "df['age'] = ages"
   ]
  },
  {
   "cell_type": "code",
   "execution_count": 37,
   "id": "af6dab4d-8dd1-487c-b52c-bb1c81951c8b",
   "metadata": {},
   "outputs": [],
   "source": [
    "#df.head()"
   ]
  },
  {
   "cell_type": "code",
   "execution_count": 38,
   "id": "e957d577-7395-406e-9ae5-46e8b8e7ea34",
   "metadata": {},
   "outputs": [],
   "source": [
    "age_group = ['15-29' if age < 30 else '30+' for age in df['age']]"
   ]
  },
  {
   "cell_type": "code",
   "execution_count": 39,
   "id": "6e73ef88-c43b-44d9-925a-4bc623b5dbf3",
   "metadata": {},
   "outputs": [],
   "source": [
    "df['age_group'] = age_group"
   ]
  },
  {
   "cell_type": "code",
   "execution_count": 43,
   "id": "27d18e2d-c105-4f0d-9794-0d7e1d3ebeca",
   "metadata": {},
   "outputs": [
    {
     "data": {
      "text/html": [
       "<div>\n",
       "<style scoped>\n",
       "    .dataframe tbody tr th:only-of-type {\n",
       "        vertical-align: middle;\n",
       "    }\n",
       "\n",
       "    .dataframe tbody tr th {\n",
       "        vertical-align: top;\n",
       "    }\n",
       "\n",
       "    .dataframe thead th {\n",
       "        text-align: right;\n",
       "    }\n",
       "</style>\n",
       "<table border=\"1\" class=\"dataframe\">\n",
       "  <thead>\n",
       "    <tr style=\"text-align: right;\">\n",
       "      <th></th>\n",
       "      <th>first_name</th>\n",
       "      <th>last_name</th>\n",
       "      <th>address</th>\n",
       "      <th>sex</th>\n",
       "      <th>birth_date</th>\n",
       "      <th>birth_year</th>\n",
       "      <th>age</th>\n",
       "      <th>type_person</th>\n",
       "      <th>type_id</th>\n",
       "      <th>cin</th>\n",
       "      <th>...</th>\n",
       "      <th>email</th>\n",
       "      <th>phone_1</th>\n",
       "      <th>phone_2</th>\n",
       "      <th>nb_goat</th>\n",
       "      <th>nb_cattle</th>\n",
       "      <th>nb_sheep</th>\n",
       "      <th>nb_poultry</th>\n",
       "      <th>gps_lat</th>\n",
       "      <th>gps_lng</th>\n",
       "      <th>date_joined</th>\n",
       "    </tr>\n",
       "    <tr>\n",
       "      <th>age_group</th>\n",
       "      <th></th>\n",
       "      <th></th>\n",
       "      <th></th>\n",
       "      <th></th>\n",
       "      <th></th>\n",
       "      <th></th>\n",
       "      <th></th>\n",
       "      <th></th>\n",
       "      <th></th>\n",
       "      <th></th>\n",
       "      <th></th>\n",
       "      <th></th>\n",
       "      <th></th>\n",
       "      <th></th>\n",
       "      <th></th>\n",
       "      <th></th>\n",
       "      <th></th>\n",
       "      <th></th>\n",
       "      <th></th>\n",
       "      <th></th>\n",
       "      <th></th>\n",
       "    </tr>\n",
       "  </thead>\n",
       "  <tbody>\n",
       "    <tr>\n",
       "      <th>15-29</th>\n",
       "      <td>6259</td>\n",
       "      <td>6259</td>\n",
       "      <td>6259</td>\n",
       "      <td>6259</td>\n",
       "      <td>6259</td>\n",
       "      <td>0</td>\n",
       "      <td>6259</td>\n",
       "      <td>6259</td>\n",
       "      <td>0</td>\n",
       "      <td>0</td>\n",
       "      <td>...</td>\n",
       "      <td>0</td>\n",
       "      <td>6259</td>\n",
       "      <td>0</td>\n",
       "      <td>6259</td>\n",
       "      <td>6259</td>\n",
       "      <td>6259</td>\n",
       "      <td>6259</td>\n",
       "      <td>6259</td>\n",
       "      <td>6259</td>\n",
       "      <td>6259</td>\n",
       "    </tr>\n",
       "    <tr>\n",
       "      <th>30+</th>\n",
       "      <td>23882</td>\n",
       "      <td>23882</td>\n",
       "      <td>23882</td>\n",
       "      <td>23882</td>\n",
       "      <td>23882</td>\n",
       "      <td>0</td>\n",
       "      <td>23882</td>\n",
       "      <td>23882</td>\n",
       "      <td>0</td>\n",
       "      <td>0</td>\n",
       "      <td>...</td>\n",
       "      <td>0</td>\n",
       "      <td>23882</td>\n",
       "      <td>0</td>\n",
       "      <td>23882</td>\n",
       "      <td>23882</td>\n",
       "      <td>23882</td>\n",
       "      <td>23882</td>\n",
       "      <td>23882</td>\n",
       "      <td>23882</td>\n",
       "      <td>23882</td>\n",
       "    </tr>\n",
       "  </tbody>\n",
       "</table>\n",
       "<p>2 rows × 23 columns</p>\n",
       "</div>"
      ],
      "text/plain": [
       "           first_name  last_name  address    sex  birth_date  birth_year  \\\n",
       "age_group                                                                  \n",
       "15-29            6259       6259     6259   6259        6259           0   \n",
       "30+             23882      23882    23882  23882       23882           0   \n",
       "\n",
       "             age  type_person  type_id  cin  ...  email  phone_1  phone_2  \\\n",
       "age_group                                    ...                            \n",
       "15-29       6259         6259        0    0  ...      0     6259        0   \n",
       "30+        23882        23882        0    0  ...      0    23882        0   \n",
       "\n",
       "           nb_goat  nb_cattle  nb_sheep  nb_poultry  gps_lat  gps_lng  \\\n",
       "age_group                                                               \n",
       "15-29         6259       6259      6259        6259     6259     6259   \n",
       "30+          23882      23882     23882       23882    23882    23882   \n",
       "\n",
       "           date_joined  \n",
       "age_group               \n",
       "15-29             6259  \n",
       "30+              23882  \n",
       "\n",
       "[2 rows x 23 columns]"
      ]
     },
     "execution_count": 43,
     "metadata": {},
     "output_type": "execute_result"
    }
   ],
   "source": [
    "df.groupby('age_group').count()"
   ]
  },
  {
   "cell_type": "code",
   "execution_count": 42,
   "id": "36000211-2ffe-43c6-bf93-c796e909f430",
   "metadata": {},
   "outputs": [],
   "source": [
    "#df.to_csv('./outputs/participants.csv')"
   ]
  },
  {
   "cell_type": "code",
   "execution_count": null,
   "id": "f2e6d350-671a-427f-b128-439940917884",
   "metadata": {},
   "outputs": [],
   "source": []
  }
 ],
 "metadata": {
  "kernelspec": {
   "display_name": "Python 3 (ipykernel)",
   "language": "python",
   "name": "python3"
  },
  "language_info": {
   "codemirror_mode": {
    "name": "ipython",
    "version": 3
   },
   "file_extension": ".py",
   "mimetype": "text/x-python",
   "name": "python",
   "nbconvert_exporter": "python",
   "pygments_lexer": "ipython3",
   "version": "3.11.4"
  }
 },
 "nbformat": 4,
 "nbformat_minor": 5
}
