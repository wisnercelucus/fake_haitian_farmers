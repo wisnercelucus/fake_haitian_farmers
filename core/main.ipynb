{
 "cells": [
  {
   "cell_type": "code",
   "execution_count": 130,
   "id": "04befbd9-0a87-4ce0-926e-d87a4ab6841a",
   "metadata": {},
   "outputs": [],
   "source": [
    "#import antigravity\n",
    "import pandas as pd\n",
    "import math\n",
    "from typing import List\n",
    "from datetime import datetime\n",
    "from sqlalchemy import MetaData, Table, create_engine, text\n",
    "import matplotlib.pyplot as plt\n",
    "import seaborn as sns"
   ]
  },
  {
   "cell_type": "code",
   "execution_count": 47,
   "id": "7729bb0d-5b64-4487-a0b8-23a5d7285eb1",
   "metadata": {},
   "outputs": [],
   "source": [
    "engine = create_engine('sqlite:///pare.db')"
   ]
  },
  {
   "cell_type": "code",
   "execution_count": 4,
   "id": "3b3ee0a2-cf94-43e8-978e-f6260f595cf6",
   "metadata": {},
   "outputs": [],
   "source": [
    "import sys\n",
    "import os"
   ]
  },
  {
   "cell_type": "code",
   "execution_count": 132,
   "id": "edaf5918-6145-48f2-a72e-37e4aad1fae9",
   "metadata": {},
   "outputs": [],
   "source": [
    "sys.path.append(os.path.join(os.path.dirname('__file__'), 'models'))\n",
    "sys.path.append(os.path.join(os.path.dirname('__file__'), 'scripts'))\n",
    "sys.path.append(os.path.join(os.path.dirname('__file__'), 'config'))"
   ]
  },
  {
   "cell_type": "code",
   "execution_count": 131,
   "id": "1df347d3-468d-40c7-ae6c-86ee3389aa14",
   "metadata": {},
   "outputs": [],
   "source": [
    "from models.person import Person, Sex, TypePerson\n",
    "from models.department import Department\n",
    "from models.commune import Commune\n",
    "from models.section import Section\n",
    "from models.community import Community"
   ]
  },
  {
   "cell_type": "code",
   "execution_count": 7,
   "id": "5378ae89-417c-41e5-b93a-505c0935ff59",
   "metadata": {},
   "outputs": [],
   "source": [
    "from scripts.utils import random_item, random_date, random_date_between, random_int, years_between"
   ]
  },
  {
   "cell_type": "code",
   "execution_count": 133,
   "id": "be0d7ede-7ba9-4804-b651-df1b42ee7f8f",
   "metadata": {},
   "outputs": [],
   "source": [
    "from config.params import DEBUG"
   ]
  },
  {
   "cell_type": "code",
   "execution_count": 8,
   "id": "e36ddafc-a21c-4500-bf90-86e4fe4bf2ce",
   "metadata": {},
   "outputs": [],
   "source": [
    "haitian_names = pd.read_csv(\"./inputs/haitian_names.csv\", encoding=\"latin-1\")\n",
    "kobo_df = pd.read_csv(\"./inputs/kobo_local.csv\", encoding=\"latin-1\")"
   ]
  },
  {
   "cell_type": "code",
   "execution_count": 9,
   "id": "c01cfa35-af13-408e-97ce-e662de05d1cb",
   "metadata": {},
   "outputs": [],
   "source": [
    "h_fnames = list(haitian_names['FirstName'])"
   ]
  },
  {
   "cell_type": "code",
   "execution_count": 10,
   "id": "d4d94553-8cb9-42c9-8121-2a34052dfcb2",
   "metadata": {},
   "outputs": [],
   "source": [
    "h_mnames = list(haitian_names['MiddleName'])"
   ]
  },
  {
   "cell_type": "code",
   "execution_count": 11,
   "id": "134fdad0-1785-425f-bbdc-404fef8ec6c3",
   "metadata": {},
   "outputs": [],
   "source": [
    "h_lnames = list(haitian_names['LastName'])"
   ]
  },
  {
   "cell_type": "code",
   "execution_count": 12,
   "id": "d56b9621-0cc2-44ec-884c-8c970dbe146f",
   "metadata": {},
   "outputs": [],
   "source": [
    "def get_fullname():\n",
    "    f_name = random_item(h_fnames)\n",
    "    m_name = random_item(h_mnames)\n",
    "    l_name = random_item(h_lnames).upper()\n",
    "    name = \"\"\n",
    "    if isinstance(m_name, float):\n",
    "        name = (f_name + \" \" + l_name).strip()\n",
    "    else:\n",
    "        if m_name != 'nan':\n",
    "            name = (f_name + \" \" + m_name + \" \" + l_name).strip()\n",
    "        else:\n",
    "            name = (f_name + \" \" + m_name + \" \" + l_name).strip()\n",
    "    return name"
   ]
  },
  {
   "cell_type": "code",
   "execution_count": 13,
   "id": "8c909160-e9d2-4a2c-b9fa-1485b333175b",
   "metadata": {},
   "outputs": [],
   "source": [
    "def get_first_name(h_fnames, h_mnames):\n",
    "    f_name = random_item(h_fnames)\n",
    "    m_name = random_item(h_mnames)\n",
    "    name = \"\"\n",
    "    if isinstance(m_name, float):\n",
    "        name = f_name\n",
    "    else:\n",
    "        if m_name != 'nan':\n",
    "            name = (f_name + \" \" + m_name).strip()\n",
    "        else:\n",
    "            name = (f_name).strip()\n",
    "    return name\n",
    "\n",
    "\n",
    "def get_last_name(h_lnames):\n",
    "    return random_item(h_lnames)"
   ]
  },
  {
   "cell_type": "code",
   "execution_count": 14,
   "id": "eeb404f1-9681-4b40-b938-121ca51f1a6f",
   "metadata": {},
   "outputs": [],
   "source": [
    "departments_with_structure = (\n",
    "    kobo_df.groupby(['Departements', 'Communes', 'Section communale/Ville', 'Communauté/Addresse'])['Coordonnée GPS']\n",
    "    .first()\n",
    "    .reset_index()\n",
    "    .groupby(['Departements', 'Communes', 'Section communale/Ville'])\n",
    "    .apply(lambda x: x[['Communauté/Addresse', 'Coordonnée GPS']].to_dict(orient='records'), include_groups=False)\n",
    "    .reset_index(name='Communauté/Addresse')\n",
    "    .groupby(['Departements', 'Communes'])\n",
    "    .apply(lambda x: x[['Section communale/Ville', 'Communauté/Addresse']].to_dict(orient='records'), include_groups=False)\n",
    "    .reset_index(name='Section communale/Ville')\n",
    "    .groupby('Departements')\n",
    "    .apply(lambda x: x[['Communes', 'Section communale/Ville']].to_dict(orient='records'), include_groups=False)\n",
    "    .reset_index(name='Communes')\n",
    ")\n",
    "result4 = departments_with_structure.to_dict(orient='records')"
   ]
  },
  {
   "cell_type": "code",
   "execution_count": 15,
   "id": "005fd845-044b-433f-94ce-cd596533cb0b",
   "metadata": {},
   "outputs": [],
   "source": [
    "def get_department(data: list) -> dict:\n",
    "    return random_item(data)\n",
    "\n",
    "def get_commune(data: list) -> dict:\n",
    "    return random_item(data)\n",
    "\n",
    "def get_section(data: list) -> dict:\n",
    "    return random_item(data)\n",
    "\n",
    "def get_community(data: list) -> dict:\n",
    "    return random_item(data)    \n",
    "\n",
    "def get_gps_location(community: dict) -> tuple:\n",
    "    gps_location = community['Coordonnée GPS'] \n",
    "    if gps_location is None:\n",
    "        return (0,0) \n",
    "    if gps_location == '':\n",
    "        return (0,0)\n",
    "    gps_parts = gps_location.split(\" \")\n",
    "    return (float(gps_parts[0]), float(gps_parts[1])) "
   ]
  },
  {
   "cell_type": "code",
   "execution_count": 16,
   "id": "9fac20d7-9c70-4360-a980-08d8c44014d5",
   "metadata": {},
   "outputs": [],
   "source": [
    "department_list = []\n",
    "commune_list = []\n",
    "section_list = []\n",
    "community_list =[]\n",
    "i = 1\n",
    "j = 1\n",
    "k = 1\n",
    "l=1\n",
    "for dep in result4:\n",
    "    department= Department(\n",
    "        id=i,\n",
    "        name = dep['Departements']\n",
    "    )\n",
    "    department_list.append(department)\n",
    "    communes = dep['Communes']\n",
    "    for com in communes:\n",
    "        commune = Commune(\n",
    "            id=j,\n",
    "            name=com['Communes'],\n",
    "            department_id=i\n",
    "        )\n",
    "        commune_list.append(commune)\n",
    "        sections = com['Section communale/Ville']\n",
    "        \n",
    "        for sec in sections:\n",
    "            section = Section(\n",
    "                id=k,\n",
    "                name=sec['Section communale/Ville'],\n",
    "                commune_id=j\n",
    "            )\n",
    "            section_list.append(section)\n",
    "            communities = sec['Communauté/Addresse']\n",
    "            for comm in communities:\n",
    "                gps = get_gps_location(comm)\n",
    "                community = Community(\n",
    "                    id=l,\n",
    "                    name=comm['Communauté/Addresse'],\n",
    "                    section_id=k,\n",
    "                    gps_lat=gps[0],\n",
    "                    gps_lng=gps[1]\n",
    "                )\n",
    "                community_list.append(community)\n",
    "                l = l+1\n",
    "            k = k + 1\n",
    "        j = j + 1\n",
    "    i = i + 1"
   ]
  },
  {
   "cell_type": "code",
   "execution_count": 17,
   "id": "9a7ba55b-846c-4fb4-a823-c7dadeac893b",
   "metadata": {},
   "outputs": [],
   "source": [
    "departments_dicts = [depart.dict() for depart in department_list]\n",
    "depart_df = pd.DataFrame(departments_dicts)"
   ]
  },
  {
   "cell_type": "code",
   "execution_count": 18,
   "id": "fc1dab87-78be-405b-a38d-b531e04426a0",
   "metadata": {},
   "outputs": [],
   "source": [
    "communes_dicts = [com.dict() for com in commune_list]\n",
    "com_df = pd.DataFrame(communes_dicts)"
   ]
  },
  {
   "cell_type": "code",
   "execution_count": 19,
   "id": "6ac990ce-4b8c-4e4e-be06-1438e22176ab",
   "metadata": {},
   "outputs": [],
   "source": [
    "section_dicts = [sec.dict() for sec in section_list]\n",
    "sec_df = pd.DataFrame(section_dicts)"
   ]
  },
  {
   "cell_type": "code",
   "execution_count": 20,
   "id": "55d768b9-cedb-4ab0-8f49-acb299adc8db",
   "metadata": {},
   "outputs": [],
   "source": [
    "comm_dicts = [comm.dict() for comm in community_list]\n",
    "comm_df = pd.DataFrame(comm_dicts)"
   ]
  },
  {
   "cell_type": "code",
   "execution_count": 21,
   "id": "fcd0c676-76b3-44a5-b432-fd3e0628ec30",
   "metadata": {},
   "outputs": [
    {
     "data": {
      "text/plain": [
       "226"
      ]
     },
     "execution_count": 21,
     "metadata": {},
     "output_type": "execute_result"
    }
   ],
   "source": [
    "depart_df.to_sql('departments', con=engine, if_exists='replace', index=False)\n",
    "com_df.to_sql('communes', con=engine, if_exists='replace', index=False)\n",
    "sec_df.to_sql('sections', con=engine, if_exists='replace', index=False)\n",
    "comm_df.to_sql('communities', con=engine, if_exists='replace', index=False)"
   ]
  },
  {
   "cell_type": "code",
   "execution_count": 22,
   "id": "8b155c4c-d5d6-4f9c-bf47-92308679df0f",
   "metadata": {},
   "outputs": [],
   "source": [
    "birth_date_start = datetime(1940, 1, 1)\n",
    "birth_date_end = datetime(2009, 1, 1)\n",
    "\n",
    "joined_start_date = datetime(2024, 1, 1)\n",
    "joined_end_date = datetime(2027, 12, 31)"
   ]
  },
  {
   "cell_type": "code",
   "execution_count": 23,
   "id": "ff7c573c-9250-48e3-99ee-4e01bcbb46b5",
   "metadata": {},
   "outputs": [],
   "source": [
    "total_participants = 30140"
   ]
  },
  {
   "cell_type": "code",
   "execution_count": 134,
   "id": "124d7385-3480-4d3c-b9cc-8ba0362f6870",
   "metadata": {},
   "outputs": [],
   "source": [
    "participants = []\n",
    "if not DEBUG:\n",
    "    sexes = [Sex.male, Sex.female]\n",
    "    type_p = [TypePerson.type_1, \n",
    "              TypePerson.type_2, \n",
    "              TypePerson.type_3, \n",
    "              TypePerson.type_4, \n",
    "              TypePerson.type_5, \n",
    "              TypePerson.type_6]\n",
    "    \n",
    "    for i in range(total_participants):\n",
    "        #department = get_department(result4)\n",
    "        #commune = get_commune(department[\"Communes\"])\n",
    "        #section = get_section(commune['Section communale/Ville'])\n",
    "        #community = get_community(section['Communauté/Addresse'])\n",
    "        #gps = get_gps_location(community)\n",
    "        community = random_item(community_list)\n",
    "        \n",
    "        person: Person = Person(\n",
    "               first_name = get_first_name(h_fnames, h_mnames),\n",
    "               last_name = get_last_name(h_lnames),\n",
    "               sex=random_item(sexes).value,\n",
    "               address=community.name,\n",
    "               community_id = community.id,\n",
    "               phone_1='33511661',\n",
    "               birth_date = random_date_between(birth_date_start, birth_date_end),\n",
    "               date_joined = random_date_between(joined_start_date, joined_end_date ),\n",
    "               nb_goat = random_int(0, 25),\n",
    "               nb_cattle= random_int(0, 10),\n",
    "               nb_sheep = random_int(0, 25),\n",
    "               nb_poultry = random_int(0, 100),\n",
    "               gps_lat = community.gps_lat,\n",
    "               gps_lng = community.gps_lng,\n",
    "               type_person = random_item(type_p).value\n",
    "        )\n",
    "        participants.append(person)"
   ]
  },
  {
   "cell_type": "code",
   "execution_count": 25,
   "id": "dfdb6c2f-3875-4bcd-80d6-9aa073839b66",
   "metadata": {},
   "outputs": [],
   "source": [
    "participants\n",
    "people_dicts = [person.dict() for person in participants]\n",
    "df = pd.DataFrame(people_dicts)"
   ]
  },
  {
   "cell_type": "code",
   "execution_count": 26,
   "id": "a20c249a-97d4-4b8c-8235-66f4dda36336",
   "metadata": {},
   "outputs": [],
   "source": [
    "today = datetime.today()"
   ]
  },
  {
   "cell_type": "code",
   "execution_count": 27,
   "id": "975e6be8-2f6b-4cea-bb51-587ed1ab6557",
   "metadata": {},
   "outputs": [],
   "source": [
    "ages = [years_between(today.date(), d) for d in df['birth_date']]"
   ]
  },
  {
   "cell_type": "code",
   "execution_count": 28,
   "id": "4d6d3e38-8e2f-4c11-814c-88441441bfc5",
   "metadata": {},
   "outputs": [],
   "source": [
    "df['age'] = ages"
   ]
  },
  {
   "cell_type": "code",
   "execution_count": 29,
   "id": "e957d577-7395-406e-9ae5-46e8b8e7ea34",
   "metadata": {},
   "outputs": [],
   "source": [
    "age_group = ['15-29' if age < 30 else '30+' for age in df['age']]"
   ]
  },
  {
   "cell_type": "code",
   "execution_count": 30,
   "id": "6e73ef88-c43b-44d9-925a-4bc623b5dbf3",
   "metadata": {},
   "outputs": [],
   "source": [
    "df['age_group'] = age_group"
   ]
  },
  {
   "cell_type": "code",
   "execution_count": 31,
   "id": "27d18e2d-c105-4f0d-9794-0d7e1d3ebeca",
   "metadata": {},
   "outputs": [
    {
     "data": {
      "text/html": [
       "<div>\n",
       "<style scoped>\n",
       "    .dataframe tbody tr th:only-of-type {\n",
       "        vertical-align: middle;\n",
       "    }\n",
       "\n",
       "    .dataframe tbody tr th {\n",
       "        vertical-align: top;\n",
       "    }\n",
       "\n",
       "    .dataframe thead th {\n",
       "        text-align: right;\n",
       "    }\n",
       "</style>\n",
       "<table border=\"1\" class=\"dataframe\">\n",
       "  <thead>\n",
       "    <tr style=\"text-align: right;\">\n",
       "      <th></th>\n",
       "      <th>id</th>\n",
       "      <th>first_name</th>\n",
       "      <th>last_name</th>\n",
       "      <th>address</th>\n",
       "      <th>sex</th>\n",
       "      <th>birth_date</th>\n",
       "      <th>birth_year</th>\n",
       "      <th>age</th>\n",
       "      <th>type_person</th>\n",
       "      <th>type_id</th>\n",
       "      <th>...</th>\n",
       "      <th>phone_1</th>\n",
       "      <th>phone_2</th>\n",
       "      <th>nb_goat</th>\n",
       "      <th>nb_cattle</th>\n",
       "      <th>nb_sheep</th>\n",
       "      <th>nb_poultry</th>\n",
       "      <th>gps_lat</th>\n",
       "      <th>gps_lng</th>\n",
       "      <th>date_joined</th>\n",
       "      <th>community_id</th>\n",
       "    </tr>\n",
       "    <tr>\n",
       "      <th>age_group</th>\n",
       "      <th></th>\n",
       "      <th></th>\n",
       "      <th></th>\n",
       "      <th></th>\n",
       "      <th></th>\n",
       "      <th></th>\n",
       "      <th></th>\n",
       "      <th></th>\n",
       "      <th></th>\n",
       "      <th></th>\n",
       "      <th></th>\n",
       "      <th></th>\n",
       "      <th></th>\n",
       "      <th></th>\n",
       "      <th></th>\n",
       "      <th></th>\n",
       "      <th></th>\n",
       "      <th></th>\n",
       "      <th></th>\n",
       "      <th></th>\n",
       "      <th></th>\n",
       "    </tr>\n",
       "  </thead>\n",
       "  <tbody>\n",
       "    <tr>\n",
       "      <th>15-29</th>\n",
       "      <td>0</td>\n",
       "      <td>6300</td>\n",
       "      <td>6300</td>\n",
       "      <td>6300</td>\n",
       "      <td>6300</td>\n",
       "      <td>6300</td>\n",
       "      <td>0</td>\n",
       "      <td>6300</td>\n",
       "      <td>6300</td>\n",
       "      <td>0</td>\n",
       "      <td>...</td>\n",
       "      <td>6300</td>\n",
       "      <td>0</td>\n",
       "      <td>6300</td>\n",
       "      <td>6300</td>\n",
       "      <td>6300</td>\n",
       "      <td>6300</td>\n",
       "      <td>6300</td>\n",
       "      <td>6300</td>\n",
       "      <td>6300</td>\n",
       "      <td>6300</td>\n",
       "    </tr>\n",
       "    <tr>\n",
       "      <th>30+</th>\n",
       "      <td>0</td>\n",
       "      <td>23840</td>\n",
       "      <td>23840</td>\n",
       "      <td>23840</td>\n",
       "      <td>23840</td>\n",
       "      <td>23840</td>\n",
       "      <td>0</td>\n",
       "      <td>23840</td>\n",
       "      <td>23840</td>\n",
       "      <td>0</td>\n",
       "      <td>...</td>\n",
       "      <td>23840</td>\n",
       "      <td>0</td>\n",
       "      <td>23840</td>\n",
       "      <td>23840</td>\n",
       "      <td>23840</td>\n",
       "      <td>23840</td>\n",
       "      <td>23840</td>\n",
       "      <td>23840</td>\n",
       "      <td>23840</td>\n",
       "      <td>23840</td>\n",
       "    </tr>\n",
       "  </tbody>\n",
       "</table>\n",
       "<p>2 rows × 25 columns</p>\n",
       "</div>"
      ],
      "text/plain": [
       "           id  first_name  last_name  address    sex  birth_date  birth_year  \\\n",
       "age_group                                                                      \n",
       "15-29       0        6300       6300     6300   6300        6300           0   \n",
       "30+         0       23840      23840    23840  23840       23840           0   \n",
       "\n",
       "             age  type_person  type_id  ...  phone_1  phone_2  nb_goat  \\\n",
       "age_group                               ...                              \n",
       "15-29       6300         6300        0  ...     6300        0     6300   \n",
       "30+        23840        23840        0  ...    23840        0    23840   \n",
       "\n",
       "           nb_cattle  nb_sheep  nb_poultry  gps_lat  gps_lng  date_joined  \\\n",
       "age_group                                                                   \n",
       "15-29           6300      6300        6300     6300     6300         6300   \n",
       "30+            23840     23840       23840    23840    23840        23840   \n",
       "\n",
       "           community_id  \n",
       "age_group                \n",
       "15-29              6300  \n",
       "30+               23840  \n",
       "\n",
       "[2 rows x 25 columns]"
      ]
     },
     "execution_count": 31,
     "metadata": {},
     "output_type": "execute_result"
    }
   ],
   "source": [
    "df.groupby('age_group').count()"
   ]
  },
  {
   "cell_type": "code",
   "execution_count": 32,
   "id": "36000211-2ffe-43c6-bf93-c796e909f430",
   "metadata": {},
   "outputs": [],
   "source": [
    "#df.to_csv('./outputs/participants.csv')\n",
    "df['id'] = range(1, len(df) + 1)"
   ]
  },
  {
   "cell_type": "code",
   "execution_count": 33,
   "id": "f2e6d350-671a-427f-b128-439940917884",
   "metadata": {},
   "outputs": [
    {
     "data": {
      "text/plain": [
       "30140"
      ]
     },
     "execution_count": 33,
     "metadata": {},
     "output_type": "execute_result"
    }
   ],
   "source": [
    "df.to_sql('participants', con=engine, if_exists='replace', index=False)"
   ]
  },
  {
   "cell_type": "code",
   "execution_count": 34,
   "id": "e4040816-ed72-4076-994c-7c260c60053e",
   "metadata": {},
   "outputs": [
    {
     "data": {
      "text/html": [
       "<div>\n",
       "<style scoped>\n",
       "    .dataframe tbody tr th:only-of-type {\n",
       "        vertical-align: middle;\n",
       "    }\n",
       "\n",
       "    .dataframe tbody tr th {\n",
       "        vertical-align: top;\n",
       "    }\n",
       "\n",
       "    .dataframe thead th {\n",
       "        text-align: right;\n",
       "    }\n",
       "</style>\n",
       "<table border=\"1\" class=\"dataframe\">\n",
       "  <thead>\n",
       "    <tr style=\"text-align: right;\">\n",
       "      <th></th>\n",
       "      <th>id</th>\n",
       "      <th>first_name</th>\n",
       "      <th>last_name</th>\n",
       "      <th>address</th>\n",
       "      <th>sex</th>\n",
       "      <th>birth_date</th>\n",
       "      <th>birth_year</th>\n",
       "      <th>age</th>\n",
       "      <th>type_person</th>\n",
       "      <th>type_id</th>\n",
       "      <th>...</th>\n",
       "      <th>phone_2</th>\n",
       "      <th>nb_goat</th>\n",
       "      <th>nb_cattle</th>\n",
       "      <th>nb_sheep</th>\n",
       "      <th>nb_poultry</th>\n",
       "      <th>gps_lat</th>\n",
       "      <th>gps_lng</th>\n",
       "      <th>date_joined</th>\n",
       "      <th>community_id</th>\n",
       "      <th>age_group</th>\n",
       "    </tr>\n",
       "  </thead>\n",
       "  <tbody>\n",
       "    <tr>\n",
       "      <th>0</th>\n",
       "      <td>1</td>\n",
       "      <td>Claire-Heureuse</td>\n",
       "      <td>MASUCCI</td>\n",
       "      <td>#002, Rue Bellevue palais -Roi</td>\n",
       "      <td>Male</td>\n",
       "      <td>2007-02-02</td>\n",
       "      <td>None</td>\n",
       "      <td>17</td>\n",
       "      <td>Personnes travaillant dans des entreprises du ...</td>\n",
       "      <td>None</td>\n",
       "      <td>...</td>\n",
       "      <td>None</td>\n",
       "      <td>3</td>\n",
       "      <td>7</td>\n",
       "      <td>17</td>\n",
       "      <td>43</td>\n",
       "      <td>19.666851</td>\n",
       "      <td>-72.127627</td>\n",
       "      <td>2025-10-19</td>\n",
       "      <td>52</td>\n",
       "      <td>15-29</td>\n",
       "    </tr>\n",
       "    <tr>\n",
       "      <th>1</th>\n",
       "      <td>2</td>\n",
       "      <td>Alain</td>\n",
       "      <td>ANISETTE</td>\n",
       "      <td>Mérande</td>\n",
       "      <td>Male</td>\n",
       "      <td>1951-12-14</td>\n",
       "      <td>None</td>\n",
       "      <td>72</td>\n",
       "      <td>Personnes travaillant dans des entreprises du ...</td>\n",
       "      <td>None</td>\n",
       "      <td>...</td>\n",
       "      <td>None</td>\n",
       "      <td>18</td>\n",
       "      <td>6</td>\n",
       "      <td>5</td>\n",
       "      <td>47</td>\n",
       "      <td>19.611705</td>\n",
       "      <td>-71.765699</td>\n",
       "      <td>2027-02-15</td>\n",
       "      <td>109</td>\n",
       "      <td>30+</td>\n",
       "    </tr>\n",
       "    <tr>\n",
       "      <th>2</th>\n",
       "      <td>3</td>\n",
       "      <td>Geffrard</td>\n",
       "      <td>DUPERVAL</td>\n",
       "      <td>Dilaire</td>\n",
       "      <td>Female</td>\n",
       "      <td>1965-11-07</td>\n",
       "      <td>None</td>\n",
       "      <td>58</td>\n",
       "      <td>Petit producteur</td>\n",
       "      <td>None</td>\n",
       "      <td>...</td>\n",
       "      <td>None</td>\n",
       "      <td>4</td>\n",
       "      <td>6</td>\n",
       "      <td>9</td>\n",
       "      <td>75</td>\n",
       "      <td>19.548422</td>\n",
       "      <td>-71.766785</td>\n",
       "      <td>2024-11-30</td>\n",
       "      <td>134</td>\n",
       "      <td>30+</td>\n",
       "    </tr>\n",
       "    <tr>\n",
       "      <th>3</th>\n",
       "      <td>4</td>\n",
       "      <td>Pierre-Eddy</td>\n",
       "      <td>AZEMAR</td>\n",
       "      <td>Mayaya</td>\n",
       "      <td>Male</td>\n",
       "      <td>1964-11-04</td>\n",
       "      <td>None</td>\n",
       "      <td>59</td>\n",
       "      <td>Producteur non-petit exploitant</td>\n",
       "      <td>None</td>\n",
       "      <td>...</td>\n",
       "      <td>None</td>\n",
       "      <td>5</td>\n",
       "      <td>5</td>\n",
       "      <td>3</td>\n",
       "      <td>52</td>\n",
       "      <td>19.346727</td>\n",
       "      <td>-72.020093</td>\n",
       "      <td>2024-12-08</td>\n",
       "      <td>41</td>\n",
       "      <td>30+</td>\n",
       "    </tr>\n",
       "    <tr>\n",
       "      <th>4</th>\n",
       "      <td>5</td>\n",
       "      <td>Serge</td>\n",
       "      <td>COFI</td>\n",
       "      <td>Lapatie</td>\n",
       "      <td>Female</td>\n",
       "      <td>1971-05-04</td>\n",
       "      <td>None</td>\n",
       "      <td>53</td>\n",
       "      <td>Les gens au gouvernement</td>\n",
       "      <td>None</td>\n",
       "      <td>...</td>\n",
       "      <td>None</td>\n",
       "      <td>1</td>\n",
       "      <td>9</td>\n",
       "      <td>24</td>\n",
       "      <td>69</td>\n",
       "      <td>19.144129</td>\n",
       "      <td>-71.952485</td>\n",
       "      <td>2024-06-26</td>\n",
       "      <td>10</td>\n",
       "      <td>30+</td>\n",
       "    </tr>\n",
       "  </tbody>\n",
       "</table>\n",
       "<p>5 rows × 26 columns</p>\n",
       "</div>"
      ],
      "text/plain": [
       "   id       first_name last_name                         address     sex  \\\n",
       "0   1  Claire-Heureuse   MASUCCI  #002, Rue Bellevue palais -Roi    Male   \n",
       "1   2            Alain  ANISETTE                         Mérande    Male   \n",
       "2   3         Geffrard  DUPERVAL                         Dilaire  Female   \n",
       "3   4      Pierre-Eddy    AZEMAR                          Mayaya    Male   \n",
       "4   5            Serge      COFI                         Lapatie  Female   \n",
       "\n",
       "  birth_date birth_year  age  \\\n",
       "0 2007-02-02       None   17   \n",
       "1 1951-12-14       None   72   \n",
       "2 1965-11-07       None   58   \n",
       "3 1964-11-04       None   59   \n",
       "4 1971-05-04       None   53   \n",
       "\n",
       "                                         type_person type_id  ... phone_2  \\\n",
       "0  Personnes travaillant dans des entreprises du ...    None  ...    None   \n",
       "1  Personnes travaillant dans des entreprises du ...    None  ...    None   \n",
       "2                                   Petit producteur    None  ...    None   \n",
       "3                    Producteur non-petit exploitant    None  ...    None   \n",
       "4                           Les gens au gouvernement    None  ...    None   \n",
       "\n",
       "  nb_goat nb_cattle nb_sheep nb_poultry    gps_lat    gps_lng  date_joined  \\\n",
       "0       3         7       17         43  19.666851 -72.127627   2025-10-19   \n",
       "1      18         6        5         47  19.611705 -71.765699   2027-02-15   \n",
       "2       4         6        9         75  19.548422 -71.766785   2024-11-30   \n",
       "3       5         5        3         52  19.346727 -72.020093   2024-12-08   \n",
       "4       1         9       24         69  19.144129 -71.952485   2024-06-26   \n",
       "\n",
       "   community_id  age_group  \n",
       "0            52      15-29  \n",
       "1           109        30+  \n",
       "2           134        30+  \n",
       "3            41        30+  \n",
       "4            10        30+  \n",
       "\n",
       "[5 rows x 26 columns]"
      ]
     },
     "execution_count": 34,
     "metadata": {},
     "output_type": "execute_result"
    }
   ],
   "source": [
    "df_from_sql = pd.read_sql('participants', con=engine)\n",
    "\n",
    "df_from_sql.head()"
   ]
  },
  {
   "cell_type": "code",
   "execution_count": null,
   "id": "60037965-35e9-4608-b008-05fb9230cea7",
   "metadata": {},
   "outputs": [],
   "source": []
  },
  {
   "cell_type": "code",
   "execution_count": 36,
   "id": "b93e3993-0d5f-46f3-8915-65d6602db99d",
   "metadata": {},
   "outputs": [],
   "source": [
    "#from sqlalchemy import text\n",
    "\n",
    "# Use `text()` to execute raw SQL queries\n",
    "#with engine.connect() as conn:\n",
    "#    result = conn.execute(text(\"SELECT * FROM participants WHERE age > 30\"))\n",
    "#    for row in result:\n",
    "#        print(row)"
   ]
  },
  {
   "cell_type": "code",
   "execution_count": 37,
   "id": "78f4da12-d1be-421d-8196-82002698dd18",
   "metadata": {},
   "outputs": [],
   "source": [
    "#df_query = pd.read_sql('SELECT * FROM participants WHERE age > 30', con=engine)\n",
    "\n",
    "#df_query.head()"
   ]
  },
  {
   "cell_type": "code",
   "execution_count": 38,
   "id": "2591ec36-8a8d-4211-8a31-bee2ebecf30b",
   "metadata": {},
   "outputs": [],
   "source": [
    "s = df.groupby(\"age_group\")[['id']].count()"
   ]
  },
  {
   "cell_type": "code",
   "execution_count": 97,
   "id": "851a5de3-e814-4050-b24f-665062f41a7c",
   "metadata": {},
   "outputs": [],
   "source": [
    "s = df.groupby(\"age_group\")[['id']].count()\n",
    "s[\"% age\"] = [ str(round((x/total_participants) * 100, 2)) + '%'  for x in s['id']]"
   ]
  },
  {
   "cell_type": "code",
   "execution_count": 98,
   "id": "77f18aea-1521-4c71-9fcc-addebfa5ceb7",
   "metadata": {},
   "outputs": [
    {
     "data": {
      "text/html": [
       "<div>\n",
       "<style scoped>\n",
       "    .dataframe tbody tr th:only-of-type {\n",
       "        vertical-align: middle;\n",
       "    }\n",
       "\n",
       "    .dataframe tbody tr th {\n",
       "        vertical-align: top;\n",
       "    }\n",
       "\n",
       "    .dataframe thead th {\n",
       "        text-align: right;\n",
       "    }\n",
       "</style>\n",
       "<table border=\"1\" class=\"dataframe\">\n",
       "  <thead>\n",
       "    <tr style=\"text-align: right;\">\n",
       "      <th></th>\n",
       "      <th>id</th>\n",
       "      <th>% age</th>\n",
       "    </tr>\n",
       "    <tr>\n",
       "      <th>age_group</th>\n",
       "      <th></th>\n",
       "      <th></th>\n",
       "    </tr>\n",
       "  </thead>\n",
       "  <tbody>\n",
       "    <tr>\n",
       "      <th>15-29</th>\n",
       "      <td>6300</td>\n",
       "      <td>20.9%</td>\n",
       "    </tr>\n",
       "    <tr>\n",
       "      <th>30+</th>\n",
       "      <td>23840</td>\n",
       "      <td>79.1%</td>\n",
       "    </tr>\n",
       "  </tbody>\n",
       "</table>\n",
       "</div>"
      ],
      "text/plain": [
       "              id  % age\n",
       "age_group              \n",
       "15-29       6300  20.9%\n",
       "30+        23840  79.1%"
      ]
     },
     "execution_count": 98,
     "metadata": {},
     "output_type": "execute_result"
    }
   ],
   "source": [
    "s"
   ]
  },
  {
   "cell_type": "code",
   "execution_count": 56,
   "id": "1aac2655-964f-441c-80e1-9ae8e40c718f",
   "metadata": {},
   "outputs": [],
   "source": [
    "# Set up the engine and metadata\n",
    "metadata = MetaData()\n",
    "\n",
    "# Reflect the existing tables\n",
    "community_table = Table('communities', metadata, autoload_with=engine)\n",
    "section_table = Table('sections', metadata, autoload_with=engine)\n",
    "commune_table = Table('communes', metadata, autoload_with=engine)\n",
    "department_table = Table('departments', metadata, autoload_with=engine)"
   ]
  },
  {
   "cell_type": "code",
   "execution_count": 77,
   "id": "0ed42b7b-a80c-4a39-b85c-f7a7ccb483b4",
   "metadata": {},
   "outputs": [],
   "source": [
    "from sqlalchemy import select\n",
    "\n",
    "# Create the join query\n",
    "query = (\n",
    "    select(\n",
    "        community_table.c.id.label('community_id'),\n",
    "        community_table.c.name.label('community_name'),\n",
    "        section_table.c.name.label('section_name'),\n",
    "        commune_table.c.name.label('commune_name'),\n",
    "        department_table.c.name.label('department_name')\n",
    "    )\n",
    "    .select_from(\n",
    "        community_table\n",
    "        .join(section_table, community_table.c.section_id == section_table.c.id)\n",
    "        .join(commune_table, section_table.c.commune_id == commune_table.c.id)\n",
    "        .join(department_table, commune_table.c.department_id == department_table.c.id)\n",
    "    )\n",
    ")"
   ]
  },
  {
   "cell_type": "code",
   "execution_count": 78,
   "id": "1967af44-638a-4034-9320-d559570aa080",
   "metadata": {},
   "outputs": [],
   "source": [
    "comm_list = []\n",
    "with engine.connect() as conn:\n",
    "    result = conn.execute(query)\n",
    "    fetched_communities = result.fetchall()\n",
    "    \n",
    "    for row in fetched_communities:\n",
    "        comm_list.append(dict(row._mapping))"
   ]
  },
  {
   "cell_type": "code",
   "execution_count": 79,
   "id": "df1edc16-9fd7-42b8-af52-0931ad4a5eb2",
   "metadata": {},
   "outputs": [],
   "source": [
    "c_df = pd.DataFrame(comm_list)"
   ]
  },
  {
   "cell_type": "code",
   "execution_count": 80,
   "id": "cbd89bae-bbce-4625-b4ce-2dfd5ae1a548",
   "metadata": {},
   "outputs": [
    {
     "data": {
      "text/html": [
       "<div>\n",
       "<style scoped>\n",
       "    .dataframe tbody tr th:only-of-type {\n",
       "        vertical-align: middle;\n",
       "    }\n",
       "\n",
       "    .dataframe tbody tr th {\n",
       "        vertical-align: top;\n",
       "    }\n",
       "\n",
       "    .dataframe thead th {\n",
       "        text-align: right;\n",
       "    }\n",
       "</style>\n",
       "<table border=\"1\" class=\"dataframe\">\n",
       "  <thead>\n",
       "    <tr style=\"text-align: right;\">\n",
       "      <th></th>\n",
       "      <th>community_id</th>\n",
       "      <th>community_name</th>\n",
       "      <th>section_name</th>\n",
       "      <th>commune_name</th>\n",
       "      <th>department_name</th>\n",
       "    </tr>\n",
       "  </thead>\n",
       "  <tbody>\n",
       "    <tr>\n",
       "      <th>0</th>\n",
       "      <td>1</td>\n",
       "      <td>Trois Bois Pin</td>\n",
       "      <td>Cerca-Carvajal</td>\n",
       "      <td>Cerca-Carvajal</td>\n",
       "      <td>Centre</td>\n",
       "    </tr>\n",
       "    <tr>\n",
       "      <th>1</th>\n",
       "      <td>2</td>\n",
       "      <td>Bois Couleuvre</td>\n",
       "      <td>Rang</td>\n",
       "      <td>Cerca-Carvajal</td>\n",
       "      <td>Centre</td>\n",
       "    </tr>\n",
       "    <tr>\n",
       "      <th>2</th>\n",
       "      <td>3</td>\n",
       "      <td>Marinette</td>\n",
       "      <td>Rang</td>\n",
       "      <td>Cerca-Carvajal</td>\n",
       "      <td>Centre</td>\n",
       "    </tr>\n",
       "    <tr>\n",
       "      <th>3</th>\n",
       "      <td>4</td>\n",
       "      <td>Nan Guerrier/ Trois Boipins</td>\n",
       "      <td>Rang</td>\n",
       "      <td>Cerca-Carvajal</td>\n",
       "      <td>Centre</td>\n",
       "    </tr>\n",
       "    <tr>\n",
       "      <th>4</th>\n",
       "      <td>5</td>\n",
       "      <td>Trois Boipins</td>\n",
       "      <td>Rang</td>\n",
       "      <td>Cerca-Carvajal</td>\n",
       "      <td>Centre</td>\n",
       "    </tr>\n",
       "  </tbody>\n",
       "</table>\n",
       "</div>"
      ],
      "text/plain": [
       "   community_id               community_name    section_name    commune_name  \\\n",
       "0             1               Trois Bois Pin  Cerca-Carvajal  Cerca-Carvajal   \n",
       "1             2               Bois Couleuvre            Rang  Cerca-Carvajal   \n",
       "2             3                    Marinette            Rang  Cerca-Carvajal   \n",
       "3             4  Nan Guerrier/ Trois Boipins            Rang  Cerca-Carvajal   \n",
       "4             5                Trois Boipins            Rang  Cerca-Carvajal   \n",
       "\n",
       "  department_name  \n",
       "0          Centre  \n",
       "1          Centre  \n",
       "2          Centre  \n",
       "3          Centre  \n",
       "4          Centre  "
      ]
     },
     "execution_count": 80,
     "metadata": {},
     "output_type": "execute_result"
    }
   ],
   "source": [
    "c_df.head()"
   ]
  },
  {
   "cell_type": "code",
   "execution_count": 81,
   "id": "2a74fd06-1746-435f-ab8e-12f7655ee448",
   "metadata": {},
   "outputs": [
    {
     "data": {
      "text/plain": [
       "226"
      ]
     },
     "execution_count": 81,
     "metadata": {},
     "output_type": "execute_result"
    }
   ],
   "source": [
    "c_df.to_sql('temp_communities', con=engine, if_exists='replace', index=False)"
   ]
  },
  {
   "cell_type": "code",
   "execution_count": 82,
   "id": "194ce1ba-ac85-4c4d-b7b0-466e6222aa50",
   "metadata": {},
   "outputs": [],
   "source": [
    "c_ids = df['community_id']"
   ]
  },
  {
   "cell_type": "code",
   "execution_count": 93,
   "id": "9633ad20-a982-4b1c-b733-554c46360b60",
   "metadata": {},
   "outputs": [],
   "source": [
    "depart_names = []\n",
    "comm_names = []\n",
    "section_names = []\n",
    "community_names = []\n",
    "with engine.connect() as conn:\n",
    "    for _id in c_ids:\n",
    "        result = conn.execute(text(f\"SELECT * FROM temp_communities WHERE community_id = :id\"), {\"id\": _id})\n",
    "        row = result.fetchone()\n",
    "        if row:\n",
    "            r = dict(row._mapping)\n",
    "            depart_names.append(r['department_name'])\n",
    "            comm_names.append(r['commune_name'])\n",
    "            section_names.append(r['section_name'])\n",
    "            community_names.append(r['community_name'])\n",
    "        else:\n",
    "            depart_names.append(\"\")\n",
    "            comm_names.append(\"\")\n",
    "            section_names.append(\"\")\n",
    "            community_names.append(\"\")\n",
    "            print(f\"No community found with id={_id}\")"
   ]
  },
  {
   "cell_type": "code",
   "execution_count": 94,
   "id": "eb7e7c18-2d09-484d-a43a-c3ad6a283081",
   "metadata": {},
   "outputs": [],
   "source": [
    "df[\"department_name\"] = depart_names\n",
    "df[\"commune_name\"] = comm_names\n",
    "df[\"section_name\"] = section_names\n",
    "df[\"community_name\"] = community_names"
   ]
  },
  {
   "cell_type": "code",
   "execution_count": 95,
   "id": "3ae88de4-bcdf-49ef-950c-729e38bac0d5",
   "metadata": {},
   "outputs": [
    {
     "data": {
      "text/html": [
       "<div>\n",
       "<style scoped>\n",
       "    .dataframe tbody tr th:only-of-type {\n",
       "        vertical-align: middle;\n",
       "    }\n",
       "\n",
       "    .dataframe tbody tr th {\n",
       "        vertical-align: top;\n",
       "    }\n",
       "\n",
       "    .dataframe thead th {\n",
       "        text-align: right;\n",
       "    }\n",
       "</style>\n",
       "<table border=\"1\" class=\"dataframe\">\n",
       "  <thead>\n",
       "    <tr style=\"text-align: right;\">\n",
       "      <th></th>\n",
       "      <th>id</th>\n",
       "      <th>first_name</th>\n",
       "      <th>last_name</th>\n",
       "      <th>address</th>\n",
       "      <th>sex</th>\n",
       "      <th>birth_date</th>\n",
       "      <th>birth_year</th>\n",
       "      <th>age</th>\n",
       "      <th>type_person</th>\n",
       "      <th>type_id</th>\n",
       "      <th>...</th>\n",
       "      <th>nb_poultry</th>\n",
       "      <th>gps_lat</th>\n",
       "      <th>gps_lng</th>\n",
       "      <th>date_joined</th>\n",
       "      <th>community_id</th>\n",
       "      <th>age_group</th>\n",
       "      <th>department_name</th>\n",
       "      <th>commune_name</th>\n",
       "      <th>section_name</th>\n",
       "      <th>community_name</th>\n",
       "    </tr>\n",
       "  </thead>\n",
       "  <tbody>\n",
       "    <tr>\n",
       "      <th>0</th>\n",
       "      <td>1</td>\n",
       "      <td>Claire-Heureuse</td>\n",
       "      <td>MASUCCI</td>\n",
       "      <td>#002, Rue Bellevue palais -Roi</td>\n",
       "      <td>Male</td>\n",
       "      <td>2007-02-02</td>\n",
       "      <td>None</td>\n",
       "      <td>17</td>\n",
       "      <td>Personnes travaillant dans des entreprises du ...</td>\n",
       "      <td>None</td>\n",
       "      <td>...</td>\n",
       "      <td>43</td>\n",
       "      <td>19.666851</td>\n",
       "      <td>-72.127627</td>\n",
       "      <td>2025-10-19</td>\n",
       "      <td>52</td>\n",
       "      <td>15-29</td>\n",
       "      <td>Nord</td>\n",
       "      <td>Limonade</td>\n",
       "      <td>Centre ville</td>\n",
       "      <td>#002, Rue Bellevue palais -Roi</td>\n",
       "    </tr>\n",
       "    <tr>\n",
       "      <th>1</th>\n",
       "      <td>2</td>\n",
       "      <td>Alain</td>\n",
       "      <td>ANISETTE</td>\n",
       "      <td>Mérande</td>\n",
       "      <td>Male</td>\n",
       "      <td>1951-12-14</td>\n",
       "      <td>None</td>\n",
       "      <td>72</td>\n",
       "      <td>Personnes travaillant dans des entreprises du ...</td>\n",
       "      <td>None</td>\n",
       "      <td>...</td>\n",
       "      <td>47</td>\n",
       "      <td>19.611705</td>\n",
       "      <td>-71.765699</td>\n",
       "      <td>2027-02-15</td>\n",
       "      <td>109</td>\n",
       "      <td>30+</td>\n",
       "      <td>Nord-Est</td>\n",
       "      <td>Ferrier</td>\n",
       "      <td>Première section</td>\n",
       "      <td>Mérande</td>\n",
       "    </tr>\n",
       "    <tr>\n",
       "      <th>2</th>\n",
       "      <td>3</td>\n",
       "      <td>Geffrard</td>\n",
       "      <td>DUPERVAL</td>\n",
       "      <td>Dilaire</td>\n",
       "      <td>Female</td>\n",
       "      <td>1965-11-07</td>\n",
       "      <td>None</td>\n",
       "      <td>58</td>\n",
       "      <td>Petit producteur</td>\n",
       "      <td>None</td>\n",
       "      <td>...</td>\n",
       "      <td>75</td>\n",
       "      <td>19.548422</td>\n",
       "      <td>-71.766785</td>\n",
       "      <td>2024-11-30</td>\n",
       "      <td>134</td>\n",
       "      <td>30+</td>\n",
       "      <td>Nord-Est</td>\n",
       "      <td>Ouanaminthe</td>\n",
       "      <td>Haut Maribahoux (première section)</td>\n",
       "      <td>Dilaire</td>\n",
       "    </tr>\n",
       "    <tr>\n",
       "      <th>3</th>\n",
       "      <td>4</td>\n",
       "      <td>Pierre-Eddy</td>\n",
       "      <td>AZEMAR</td>\n",
       "      <td>Mayaya</td>\n",
       "      <td>Male</td>\n",
       "      <td>1964-11-04</td>\n",
       "      <td>None</td>\n",
       "      <td>59</td>\n",
       "      <td>Producteur non-petit exploitant</td>\n",
       "      <td>None</td>\n",
       "      <td>...</td>\n",
       "      <td>52</td>\n",
       "      <td>19.346727</td>\n",
       "      <td>-72.020093</td>\n",
       "      <td>2024-12-08</td>\n",
       "      <td>41</td>\n",
       "      <td>30+</td>\n",
       "      <td>Nord</td>\n",
       "      <td>La Victoire</td>\n",
       "      <td>Vieux Lavictoire</td>\n",
       "      <td>Mayaya</td>\n",
       "    </tr>\n",
       "    <tr>\n",
       "      <th>4</th>\n",
       "      <td>5</td>\n",
       "      <td>Serge</td>\n",
       "      <td>COFI</td>\n",
       "      <td>Lapatie</td>\n",
       "      <td>Female</td>\n",
       "      <td>1971-05-04</td>\n",
       "      <td>None</td>\n",
       "      <td>53</td>\n",
       "      <td>Les gens au gouvernement</td>\n",
       "      <td>None</td>\n",
       "      <td>...</td>\n",
       "      <td>69</td>\n",
       "      <td>19.144129</td>\n",
       "      <td>-71.952485</td>\n",
       "      <td>2024-06-26</td>\n",
       "      <td>10</td>\n",
       "      <td>30+</td>\n",
       "      <td>Centre</td>\n",
       "      <td>Hinche</td>\n",
       "      <td>Aguaedionne Rive Droite</td>\n",
       "      <td>Lapatie</td>\n",
       "    </tr>\n",
       "  </tbody>\n",
       "</table>\n",
       "<p>5 rows × 30 columns</p>\n",
       "</div>"
      ],
      "text/plain": [
       "   id       first_name last_name                         address     sex  \\\n",
       "0   1  Claire-Heureuse   MASUCCI  #002, Rue Bellevue palais -Roi    Male   \n",
       "1   2            Alain  ANISETTE                         Mérande    Male   \n",
       "2   3         Geffrard  DUPERVAL                         Dilaire  Female   \n",
       "3   4      Pierre-Eddy    AZEMAR                          Mayaya    Male   \n",
       "4   5            Serge      COFI                         Lapatie  Female   \n",
       "\n",
       "   birth_date birth_year  age  \\\n",
       "0  2007-02-02       None   17   \n",
       "1  1951-12-14       None   72   \n",
       "2  1965-11-07       None   58   \n",
       "3  1964-11-04       None   59   \n",
       "4  1971-05-04       None   53   \n",
       "\n",
       "                                         type_person type_id  ... nb_poultry  \\\n",
       "0  Personnes travaillant dans des entreprises du ...    None  ...         43   \n",
       "1  Personnes travaillant dans des entreprises du ...    None  ...         47   \n",
       "2                                   Petit producteur    None  ...         75   \n",
       "3                    Producteur non-petit exploitant    None  ...         52   \n",
       "4                           Les gens au gouvernement    None  ...         69   \n",
       "\n",
       "     gps_lat    gps_lng date_joined community_id age_group department_name  \\\n",
       "0  19.666851 -72.127627  2025-10-19           52     15-29            Nord   \n",
       "1  19.611705 -71.765699  2027-02-15          109       30+        Nord-Est   \n",
       "2  19.548422 -71.766785  2024-11-30          134       30+        Nord-Est   \n",
       "3  19.346727 -72.020093  2024-12-08           41       30+            Nord   \n",
       "4  19.144129 -71.952485  2024-06-26           10       30+          Centre   \n",
       "\n",
       "   commune_name                        section_name  \\\n",
       "0      Limonade                        Centre ville   \n",
       "1       Ferrier                    Première section   \n",
       "2   Ouanaminthe  Haut Maribahoux (première section)   \n",
       "3   La Victoire                    Vieux Lavictoire   \n",
       "4        Hinche             Aguaedionne Rive Droite   \n",
       "\n",
       "                   community_name  \n",
       "0  #002, Rue Bellevue palais -Roi  \n",
       "1                         Mérande  \n",
       "2                         Dilaire  \n",
       "3                          Mayaya  \n",
       "4                         Lapatie  \n",
       "\n",
       "[5 rows x 30 columns]"
      ]
     },
     "execution_count": 95,
     "metadata": {},
     "output_type": "execute_result"
    }
   ],
   "source": [
    "df.head()"
   ]
  },
  {
   "cell_type": "code",
   "execution_count": 96,
   "id": "4f2641e5-75bb-4ba3-8602-fdc965b4edd1",
   "metadata": {},
   "outputs": [],
   "source": [
    "df.to_csv('./outputs/participants.csv')"
   ]
  },
  {
   "cell_type": "code",
   "execution_count": 99,
   "id": "ac0a5ed3-f646-4906-a16d-071bbd12eb1a",
   "metadata": {},
   "outputs": [],
   "source": [
    "s = df.groupby(\"department_name\")[['id']].count()\n",
    "s[\"% per department\"] = [ str(round((x/total_participants) * 100, 2)) + '%'  for x in s['id']]"
   ]
  },
  {
   "cell_type": "code",
   "execution_count": 128,
   "id": "72829e08-9c0d-4816-837f-efa40391b2ee",
   "metadata": {},
   "outputs": [],
   "source": [
    "#s"
   ]
  },
  {
   "cell_type": "code",
   "execution_count": 101,
   "id": "b30da6b3-cda6-4a29-b251-522321dd3e31",
   "metadata": {},
   "outputs": [],
   "source": [
    "s = df.groupby(\"commune_name\")[['id']].count()\n",
    "s[\"% per commune\"] = [ str(round((x/total_participants) * 100, 2)) + '%'  for x in s['id']]"
   ]
  },
  {
   "cell_type": "code",
   "execution_count": 127,
   "id": "e9f18bde-62de-407e-9882-483a00a02cb2",
   "metadata": {},
   "outputs": [],
   "source": [
    "#s"
   ]
  },
  {
   "cell_type": "code",
   "execution_count": 114,
   "id": "13d5a0c8-b573-41eb-9609-3f4eba764328",
   "metadata": {},
   "outputs": [
    {
     "name": "stdout",
     "output_type": "stream",
     "text": [
      "First quartile (Q1): 33.0\n",
      "Second quartile (Q2 - Median): 50.0\n",
      "Third quartile (Q3): 67.0\n"
     ]
    }
   ],
   "source": [
    "import numpy as np\n",
    "\n",
    "# List of ages\n",
    "ages = df['age']\n",
    "\n",
    "# Calculate quartiles\n",
    "q1 = np.percentile(ages, 25)\n",
    "q2 = np.percentile(ages, 50)\n",
    "q3 = np.percentile(ages, 75)\n",
    "\n",
    "print(f\"First quartile (Q1): {q1}\")\n",
    "print(f\"Second quartile (Q2 - Median): {q2}\")\n",
    "print(f\"Third quartile (Q3): {q3}\")"
   ]
  },
  {
   "cell_type": "code",
   "execution_count": 108,
   "id": "596baca2-4f57-4b65-b1a6-ef3725b66cf5",
   "metadata": {},
   "outputs": [
    {
     "data": {
      "text/plain": [
       "15"
      ]
     },
     "execution_count": 108,
     "metadata": {},
     "output_type": "execute_result"
    }
   ],
   "source": [
    "min(ages)"
   ]
  },
  {
   "cell_type": "code",
   "execution_count": 109,
   "id": "7766ed4e-350f-43ca-ab87-1a65cd4f0a3c",
   "metadata": {},
   "outputs": [
    {
     "data": {
      "text/plain": [
       "84"
      ]
     },
     "execution_count": 109,
     "metadata": {},
     "output_type": "execute_result"
    }
   ],
   "source": [
    "max(ages)"
   ]
  },
  {
   "cell_type": "code",
   "execution_count": 121,
   "id": "88d5e73f-3161-4190-92f2-fd2a6aa8e078",
   "metadata": {},
   "outputs": [],
   "source": [
    "# Calculate quartiles\n",
    "#q1 = ages.quantile(0.25)\n",
    "#q2 = ages.quantile(0.50)\n",
    "#q3 = ages.quantile(0.75)\n",
    "\n",
    "#print(f\"First quartile (Q1): {q1}\")\n",
    "#print(f\"Second quartile (Q2 - Median): {q2}\")\n",
    "#print(f\"Third quartile (Q3): {q3}\")"
   ]
  },
  {
   "cell_type": "code",
   "execution_count": 120,
   "id": "54c004b7-ed6c-4934-914b-ba6dca6ba03f",
   "metadata": {},
   "outputs": [
    {
     "data": {
      "image/png": "[encoded data removed]",
      "text/plain": [
       "<Figure size 1000x600 with 1 Axes>"
      ]
     },
     "metadata": {},
     "output_type": "display_data"
    }
   ],
   "source": [
    "# Create a seaborn style histogram\n",
    "plt.figure(figsize=(10, 6))\n",
    "sns.histplot(ages, bins=20, kde=True, color='skyblue')\n",
    "plt.title('Age Distribution')\n",
    "plt.xlabel('Age')\n",
    "plt.ylabel('Frequency')\n",
    "plt.grid(True)\n",
    "\n",
    "# Show the plot\n",
    "plt.show()\n"
   ]
  },
  {
   "cell_type": "code",
   "execution_count": 118,
   "id": "73c4e47c-f133-4af3-aced-28e2835c4881",
   "metadata": {},
   "outputs": [],
   "source": [
    "# Create a histogram\n",
    "#plt.figure(figsize=(10, 6))\n",
    "#plt.hist(ages, bins=10, edgecolor='black', alpha=0.7)\n",
    "#plt.title('Age Distribution')\n",
    "#plt.xlabel('Age')\n",
    "#plt.ylabel('Frequency')\n",
    "#plt.grid(True)\n",
    "\n",
    "# Show the plot\n",
    "#plt.show()\n"
   ]
  },
  {
   "cell_type": "code",
   "execution_count": 126,
   "id": "1848c18e-b1c4-4cd4-8c49-161c4b29a8a5",
   "metadata": {},
   "outputs": [
    {
     "name": "stdout",
     "output_type": "stream",
     "text": [
      "        id % per year\n",
      "year                 \n",
      "2024  7618     25.28%\n",
      "2025  7438     24.68%\n",
      "2026  7495     24.87%\n",
      "2027  7589     25.18%\n"
     ]
    }
   ],
   "source": [
    "# Convert the 'date' column to datetime format\n",
    "df['date_joined'] = pd.to_datetime(df['date_joined'])\n",
    "\n",
    "# Extract the year from the 'date' column and add it as a new column\n",
    "df['year'] = df['date_joined'].dt.year\n",
    "\n",
    "# Group by the 'year' column\n",
    "grouped_by_year = df.groupby('year')[['id']].count()\n",
    "grouped_by_year[\"% per year\"] = [ str(round((x/total_participants) * 100, 2)) + '%'  for x in grouped_by_year['id']]\n",
    "\n",
    "print(grouped_by_year)"
   ]
  },
  {
   "cell_type": "code",
   "execution_count": null,
   "id": "7cce5a1d-e297-47d5-99e3-fb4c580beafa",
   "metadata": {},
   "outputs": [],
   "source": []
  }
 ],
 "metadata": {
  "kernelspec": {
   "display_name": "Python 3 (ipykernel)",
   "language": "python",
   "name": "python3"
  },
  "language_info": {
   "codemirror_mode": {
    "name": "ipython",
    "version": 3
   },
   "file_extension": ".py",
   "mimetype": "text/x-python",
   "name": "python",
   "nbconvert_exporter": "python",
   "pygments_lexer": "ipython3",
   "version": "3.11.4"
  }
 },
 "nbformat": 4,
 "nbformat_minor": 5
}
