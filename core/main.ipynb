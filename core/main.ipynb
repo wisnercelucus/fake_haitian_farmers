{
 "cells": [
  {
   "cell_type": "code",
   "execution_count": 1,
   "id": "04befbd9-0a87-4ce0-926e-d87a4ab6841a",
   "metadata": {},
   "outputs": [],
   "source": [
    "import pandas as pd\n",
    "import math"
   ]
  },
  {
   "cell_type": "code",
   "execution_count": 2,
   "id": "3b3ee0a2-cf94-43e8-978e-f6260f595cf6",
   "metadata": {},
   "outputs": [],
   "source": [
    "import sys\n",
    "import os"
   ]
  },
  {
   "cell_type": "code",
   "execution_count": 3,
   "id": "edaf5918-6145-48f2-a72e-37e4aad1fae9",
   "metadata": {},
   "outputs": [],
   "source": [
    "sys.path.append(os.path.join(os.path.dirname('__file__'), 'models'))\n",
    "sys.path.append(os.path.join(os.path.dirname('__file__'), 'scripts'))"
   ]
  },
  {
   "cell_type": "code",
   "execution_count": 4,
   "id": "1df347d3-468d-40c7-ae6c-86ee3389aa14",
   "metadata": {},
   "outputs": [],
   "source": [
    "from models.Person import Person, Sex"
   ]
  },
  {
   "cell_type": "code",
   "execution_count": 5,
   "id": "5378ae89-417c-41e5-b93a-505c0935ff59",
   "metadata": {},
   "outputs": [],
   "source": [
    "from scripts.utils import random_item"
   ]
  },
  {
   "cell_type": "code",
   "execution_count": 6,
   "id": "7cbbb355-fc13-4a13-a90b-48c0ebded20c",
   "metadata": {},
   "outputs": [],
   "source": [
    "person: Person = Person(first_name=\"Wisner\", \n",
    "                last_name=\"CELUCUS\", \n",
    "                address=\"Delmas\", \n",
    "                phone_1=\"33511661\", \n",
    "                sex=Sex.male)"
   ]
  },
  {
   "cell_type": "code",
   "execution_count": 7,
   "id": "e36ddafc-a21c-4500-bf90-86e4fe4bf2ce",
   "metadata": {},
   "outputs": [],
   "source": [
    "haitian_names = pd.read_csv(\"./inputs/haitian_names.csv\", encoding=\"latin-1\")\n",
    "kobo_df = pd.read_csv(\"./inputs/kobo_local.csv\", encoding=\"latin-1\")"
   ]
  },
  {
   "cell_type": "code",
   "execution_count": 8,
   "id": "c01cfa35-af13-408e-97ce-e662de05d1cb",
   "metadata": {},
   "outputs": [],
   "source": [
    "h_fnames = list(haitian_names['FirstName'])"
   ]
  },
  {
   "cell_type": "code",
   "execution_count": 9,
   "id": "d4d94553-8cb9-42c9-8121-2a34052dfcb2",
   "metadata": {},
   "outputs": [],
   "source": [
    "h_mnames = list(haitian_names['MiddleName'])"
   ]
  },
  {
   "cell_type": "code",
   "execution_count": 10,
   "id": "134fdad0-1785-425f-bbdc-404fef8ec6c3",
   "metadata": {},
   "outputs": [],
   "source": [
    "h_lnames = list(haitian_names['LastName'])"
   ]
  },
  {
   "cell_type": "code",
   "execution_count": 11,
   "id": "d56b9621-0cc2-44ec-884c-8c970dbe146f",
   "metadata": {},
   "outputs": [],
   "source": [
    "def get_fullname():\n",
    "    f_name = random_item(h_fnames)\n",
    "    m_name = random_item(h_mnames)\n",
    "    l_name = random_item(h_lnames).upper()\n",
    "    name = \"\"\n",
    "    if isinstance(m_name, float):\n",
    "        name = (f_name + \" \" + l_name).strip()\n",
    "    else:\n",
    "        if m_name != 'nan':\n",
    "            name = (f_name + \" \" + m_name + \" \" + l_name).strip()\n",
    "        else:\n",
    "            name = (f_name + \" \" + m_name + \" \" + l_name).strip()\n",
    "    return name"
   ]
  },
  {
   "cell_type": "code",
   "execution_count": 12,
   "id": "ea68ce01-8d92-4dcf-a879-f419137f0687",
   "metadata": {},
   "outputs": [
    {
     "name": "stdout",
     "output_type": "stream",
     "text": [
      "Dany PIERRE\n"
     ]
    }
   ],
   "source": [
    "print(get_fullname())"
   ]
  },
  {
   "cell_type": "code",
   "execution_count": 15,
   "id": "ed60acf8-7d3f-479b-af67-ec303a9411e1",
   "metadata": {},
   "outputs": [],
   "source": [
    "#kobo_df"
   ]
  },
  {
   "cell_type": "code",
   "execution_count": 31,
   "id": "3c4fce3b-a7b6-4295-a6d3-3e6ed3f1954b",
   "metadata": {},
   "outputs": [],
   "source": [
    "departments_with_communes = kobo_df.groupby(['Departements', 'Communes', ])['Section communale/Ville'].apply(lambda x: list(set(x))).reset_index()\n",
    "# Convert to an array (list of dictionaries)\n",
    "result = departments_with_communes.to_dict(orient='records')\n",
    "\n",
    "# Print the result\n",
    "#print(result)"
   ]
  },
  {
   "cell_type": "code",
   "execution_count": 32,
   "id": "8c17dfad-ba5e-43c6-a943-0d295dab2475",
   "metadata": {},
   "outputs": [],
   "source": [
    "communes_with_sections = []\n",
    "for depart in result:\n",
    "    communes_with_sections.append(\n",
    "        {'name': depart[\"Communes\"], \"Department\": depart['Departements'], \"sections\": depart['Section communale/Ville'] }\n",
    "    )"
   ]
  },
  {
   "cell_type": "code",
   "execution_count": 33,
   "id": "06201420-d0a6-4feb-8949-586153c29d8d",
   "metadata": {},
   "outputs": [
    {
     "data": {
      "text/plain": [
       "32"
      ]
     },
     "execution_count": 33,
     "metadata": {},
     "output_type": "execute_result"
    }
   ],
   "source": [
    "len(communes_with_sections )"
   ]
  },
  {
   "cell_type": "code",
   "execution_count": 34,
   "id": "710c325a-4c15-45be-8459-cca5d0eeb93e",
   "metadata": {},
   "outputs": [],
   "source": [
    "departments_with_communes = kobo_df.groupby(['Departements', 'Communes', 'Section communale/Ville'])['Communauté/Addresse'].apply(lambda x: list(set(x))).reset_index()\n",
    "# Convert to an array (list of dictionaries)\n",
    "result2 = departments_with_communes.to_dict(orient='records')"
   ]
  },
  {
   "cell_type": "code",
   "execution_count": 29,
   "id": "094c4918-1d0e-4333-8ccc-fa2e28b40ac9",
   "metadata": {},
   "outputs": [],
   "source": [
    "#kobo_df"
   ]
  },
  {
   "cell_type": "code",
   "execution_count": 37,
   "id": "b3359cf4-0936-4eae-a582-e8ebf82dfe57",
   "metadata": {},
   "outputs": [],
   "source": [
    "communes_with_sections_locals = []\n",
    "for depart in result2:\n",
    "    communes_with_sections_locals.append(\n",
    "        {'name': depart[\"Communes\"], \"Department\": depart['Departements'], \"sections\": depart['Section communale/Ville'], 'communities':depart['Communauté/Addresse'] }\n",
    "    )"
   ]
  },
  {
   "cell_type": "code",
   "execution_count": 39,
   "id": "3d447483-923a-4d10-90af-72f1f4de04c0",
   "metadata": {},
   "outputs": [],
   "source": [
    "#communes_with_sections_locals"
   ]
  },
  {
   "cell_type": "code",
   "execution_count": 51,
   "id": "2d84257d-9332-4dc9-bda2-12e438652efb",
   "metadata": {},
   "outputs": [
    {
     "name": "stderr",
     "output_type": "stream",
     "text": [
      "C:\\Users\\User\\AppData\\Local\\Temp\\ipykernel_23168\\714702907.py:6: DeprecationWarning: DataFrameGroupBy.apply operated on the grouping columns. This behavior is deprecated, and in a future version of pandas the grouping columns will be excluded from the operation. Either pass `include_groups=False` to exclude the groupings or explicitly select the grouping columns after groupby to silence this warning.\n",
      "  .apply(lambda x: x[['Communauté/Addresse', 'Coordonnée GPS']].to_dict(orient='records'))  # Convert communities with GPS to dict\n",
      "C:\\Users\\User\\AppData\\Local\\Temp\\ipykernel_23168\\714702907.py:9: DeprecationWarning: DataFrameGroupBy.apply operated on the grouping columns. This behavior is deprecated, and in a future version of pandas the grouping columns will be excluded from the operation. Either pass `include_groups=False` to exclude the groupings or explicitly select the grouping columns after groupby to silence this warning.\n",
      "  .apply(lambda x: x[['Section communale/Ville', 'Communauté/Addresse']].to_dict(orient='records'))  # Convert sections to dict\n",
      "C:\\Users\\User\\AppData\\Local\\Temp\\ipykernel_23168\\714702907.py:12: DeprecationWarning: DataFrameGroupBy.apply operated on the grouping columns. This behavior is deprecated, and in a future version of pandas the grouping columns will be excluded from the operation. Either pass `include_groups=False` to exclude the groupings or explicitly select the grouping columns after groupby to silence this warning.\n",
      "  .apply(lambda x: x[['Communes', 'Section communale/Ville']].to_dict(orient='records'))  # Convert communes to dict\n"
     ]
    }
   ],
   "source": [
    "departments_with_structure = (\n",
    "    kobo_df.groupby(['Departements', 'Communes', 'Section communale/Ville', 'Communauté/Addresse'])['Coordonnée GPS']\n",
    "    .first()  # Keep first occurrence of gps_location for each community\n",
    "    .reset_index()\n",
    "    .groupby(['Departements', 'Communes', 'Section communale/Ville'])  # Now group by Section\n",
    "    .apply(lambda x: x[['Communauté/Addresse', 'Coordonnée GPS']].to_dict(orient='records'))  # Convert communities with GPS to dict\n",
    "    .reset_index(name='Communauté/Addresse')\n",
    "    .groupby(['Departements', 'Communes'])  # Now group by Commune\n",
    "    .apply(lambda x: x[['Section communale/Ville', 'Communauté/Addresse']].to_dict(orient='records'))  # Convert sections to dict\n",
    "    .reset_index(name='Section communale/Ville')\n",
    "    .groupby('Departements')  # Finally, group by Department\n",
    "    .apply(lambda x: x[['Communes', 'Section communale/Ville']].to_dict(orient='records'))  # Convert communes to dict\n",
    "    .reset_index(name='Communes')\n",
    ")\n",
    "\n",
    "result3 = departments_with_structure.to_dict(orient='records')\n",
    "\n",
    "# Print the result\n",
    "#result3"
   ]
  },
  {
   "cell_type": "code",
   "execution_count": 49,
   "id": "d2fb2fc1-72b7-4282-9209-f5355eca04b8",
   "metadata": {},
   "outputs": [],
   "source": [
    "#kobo_df"
   ]
  },
  {
   "cell_type": "code",
   "execution_count": null,
   "id": "eeb404f1-9681-4b40-b938-121ca51f1a6f",
   "metadata": {},
   "outputs": [],
   "source": []
  }
 ],
 "metadata": {
  "kernelspec": {
   "display_name": "Python 3 (ipykernel)",
   "language": "python",
   "name": "python3"
  },
  "language_info": {
   "codemirror_mode": {
    "name": "ipython",
    "version": 3
   },
   "file_extension": ".py",
   "mimetype": "text/x-python",
   "name": "python",
   "nbconvert_exporter": "python",
   "pygments_lexer": "ipython3",
   "version": "3.11.4"
  }
 },
 "nbformat": 4,
 "nbformat_minor": 5
}
