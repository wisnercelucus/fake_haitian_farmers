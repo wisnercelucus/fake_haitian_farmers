{
 "cells": [
  {
   "cell_type": "code",
   "execution_count": 1,
   "id": "04242c5f-8359-4995-b914-3905f9a4e220",
   "metadata": {},
   "outputs": [],
   "source": [
    "from sqlalchemy import create_engine, inspect\n",
    "import pandas as pd\n",
    "from urllib.parse import quote\n",
    "\n",
    "#from sqlalchemy import  MetaData, Table, Column, Integer, String\n",
    "from sqlalchemy_utils import database_exists, create_database\n",
    "import psycopg2"
   ]
  },
  {
   "cell_type": "code",
   "execution_count": 2,
   "id": "69a71daa-d570-4cf9-9dd5-153ac1c8a8fc",
   "metadata": {},
   "outputs": [],
   "source": [
    "import sys\n",
    "import os"
   ]
  },
  {
   "cell_type": "code",
   "execution_count": 3,
   "id": "6660b566-0aca-461b-8b91-df97825e0e2b",
   "metadata": {},
   "outputs": [],
   "source": [
    "sys.path.append(os.path.join(os.path.dirname('__file__'), 'models'))\n",
    "sys.path.append(os.path.join(os.path.dirname('__file__'), 'scripts'))\n",
    "sys.path.append(os.path.join(os.path.dirname('__file__'), 'config'))"
   ]
  },
  {
   "cell_type": "code",
   "execution_count": 4,
   "id": "9de617b1-229e-4c05-9ad3-32feec1fed45",
   "metadata": {},
   "outputs": [],
   "source": [
    "from config.params import DEBUG"
   ]
  },
  {
   "cell_type": "code",
   "execution_count": 5,
   "id": "e3bec503-c0b3-4e3e-afd8-ac4c7a39e43c",
   "metadata": {},
   "outputs": [],
   "source": [
    "from config.dbsecret import *"
   ]
  },
  {
   "cell_type": "code",
   "execution_count": 7,
   "id": "05eb70f9-d3f4-4dcf-a8fb-ba8336c60d24",
   "metadata": {},
   "outputs": [
    {
     "name": "stdout",
     "output_type": "stream",
     "text": [
      "Database 'pare' created successfully.\n"
     ]
    }
   ],
   "source": [
    "from sqlalchemy import create_engine\n",
    "import psycopg2\n",
    "from psycopg2.extensions import ISOLATION_LEVEL_AUTOCOMMIT\n",
    "\n",
    "db_name = DB_NAME\n",
    "user = DB_USER\n",
    "password = DB_PASSWORD\n",
    "host = DB_HOST\n",
    "port = DB_PORT\n",
    "\n",
    "# Step 1: Connect to PostgreSQL default database\n",
    "try:\n",
    "    # Connect to the default 'postgres' database\n",
    "    conn = psycopg2.connect(dbname='postgres', user=user, password=password, host=host, port=port)\n",
    "    conn.set_isolation_level(ISOLATION_LEVEL_AUTOCOMMIT)  # Allows database creation\n",
    "    cursor = conn.cursor()\n",
    "    \n",
    "    # Check if the database already exists\n",
    "    cursor.execute(f\"SELECT 1 FROM pg_database WHERE datname = '{db_name}';\")\n",
    "    exists = cursor.fetchone()\n",
    "    \n",
    "    # Create the database if it does not exist\n",
    "    if not exists:\n",
    "        cursor.execute(f\"CREATE DATABASE {db_name};\")\n",
    "        print(f\"Database '{db_name}' created successfully.\")\n",
    "    else:\n",
    "        print(f\"Database '{db_name}' already exists.\")\n",
    "    \n",
    "    cursor.close()\n",
    "    conn.close()\n",
    "except Exception as e:\n",
    "    print(f\"Error creating database: {e}\")\n"
   ]
  },
  {
   "cell_type": "code",
   "execution_count": 9,
   "id": "28c3e0c4-333a-4811-b68d-ec063133e924",
   "metadata": {},
   "outputs": [
    {
     "name": "stdout",
     "output_type": "stream",
     "text": [
      "Table 'activities' migrated successfully.\n",
      "Table 'communes' migrated successfully.\n",
      "Table 'communities' migrated successfully.\n",
      "Table 'departments' migrated successfully.\n",
      "Table 'participants' migrated successfully.\n",
      "Table 'partners' migrated successfully.\n",
      "Table 'sales' migrated successfully.\n",
      "Table 'sections' migrated successfully.\n",
      "Table 'temp_communities' migrated successfully.\n"
     ]
    }
   ],
   "source": [
    "# SQLite connection\n",
    "sqlite_engine = create_engine('sqlite:///pare.db')\n",
    "\n",
    "# PostgreSQL connection to the new database\n",
    "postgres_engine = create_engine(f'postgresql://{user}:{quote(password)}@{host}:{port}/{db_name}')\n",
    "\n",
    "# Use SQLAlchemy's inspector to get the list of table names\n",
    "inspector = inspect(sqlite_engine)\n",
    "table_names = inspector.get_table_names()\n",
    "\n",
    "# Load data from SQLite, then write to PostgreSQL\n",
    "for table_name in table_names:\n",
    "    df = pd.read_sql_table(table_name, sqlite_engine)\n",
    "    df.to_sql(table_name, postgres_engine, if_exists='replace', index=False)\n",
    "    print(f\"Table '{table_name}' migrated successfully.\")"
   ]
  },
  {
   "cell_type": "code",
   "execution_count": null,
   "id": "61bdebd6-79d0-40eb-b0b3-81ed25b58935",
   "metadata": {},
   "outputs": [],
   "source": []
  },
  {
   "cell_type": "code",
   "execution_count": null,
   "id": "03bc1828-175e-401a-8ab2-4206b8576dc2",
   "metadata": {},
   "outputs": [],
   "source": []
  }
 ],
 "metadata": {
  "kernelspec": {
   "display_name": "Python 3 (ipykernel)",
   "language": "python",
   "name": "python3"
  },
  "language_info": {
   "codemirror_mode": {
    "name": "ipython",
    "version": 3
   },
   "file_extension": ".py",
   "mimetype": "text/x-python",
   "name": "python",
   "nbconvert_exporter": "python",
   "pygments_lexer": "ipython3",
   "version": "3.11.4"
  }
 },
 "nbformat": 4,
 "nbformat_minor": 5
}
