{
 "cells": [
  {
   "cell_type": "code",
   "execution_count": 1,
   "id": "88f4bf16-66f8-403c-947b-dc1cbbe47e24",
   "metadata": {},
   "outputs": [],
   "source": [
    "#import antigravity\n",
    "import pandas as pd\n",
    "import math\n",
    "from typing import List\n",
    "from datetime import datetime\n",
    "from sqlalchemy import MetaData, Table, create_engine, text\n",
    "import matplotlib.pyplot as plt\n",
    "import seaborn as sns"
   ]
  },
  {
   "cell_type": "code",
   "execution_count": 3,
   "id": "882bad48-6ca9-44b3-8c5e-b3b58fb11545",
   "metadata": {},
   "outputs": [],
   "source": [
    "import sys\n",
    "import os"
   ]
  },
  {
   "cell_type": "code",
   "execution_count": 2,
   "id": "8a839e4b-5f41-4c61-8103-c8ddd9baf92f",
   "metadata": {},
   "outputs": [],
   "source": [
    "engine = create_engine('sqlite:///pare.db')"
   ]
  },
  {
   "cell_type": "code",
   "execution_count": 4,
   "id": "bd24e55c-7713-484c-a665-3e589e054258",
   "metadata": {},
   "outputs": [],
   "source": [
    "sys.path.append(os.path.join(os.path.dirname('__file__'), 'models'))\n",
    "sys.path.append(os.path.join(os.path.dirname('__file__'), 'scripts'))\n",
    "sys.path.append(os.path.join(os.path.dirname('__file__'), 'config'))"
   ]
  },
  {
   "cell_type": "code",
   "execution_count": 5,
   "id": "b726aaa1-fe06-4c95-82c5-ccf676d0d477",
   "metadata": {},
   "outputs": [],
   "source": [
    "from config.params import DEBUG"
   ]
  },
  {
   "cell_type": "code",
   "execution_count": 6,
   "id": "6bad89cf-c81f-4f69-b252-e93d57e6640d",
   "metadata": {},
   "outputs": [],
   "source": [
    "from scripts.utils import random_item, random_date, random_date_between, random_int, years_between"
   ]
  },
  {
   "cell_type": "code",
   "execution_count": 7,
   "id": "6c8523cd-54b6-4808-9067-a81ea2f77857",
   "metadata": {},
   "outputs": [],
   "source": [
    "from models.sale import Sale"
   ]
  },
  {
   "cell_type": "code",
   "execution_count": null,
   "id": "a8f59fc5-a00e-44ce-8513-b8733d1470c7",
   "metadata": {},
   "outputs": [],
   "source": []
  }
 ],
 "metadata": {
  "kernelspec": {
   "display_name": "Python 3 (ipykernel)",
   "language": "python",
   "name": "python3"
  },
  "language_info": {
   "codemirror_mode": {
    "name": "ipython",
    "version": 3
   },
   "file_extension": ".py",
   "mimetype": "text/x-python",
   "name": "python",
   "nbconvert_exporter": "python",
   "pygments_lexer": "ipython3",
   "version": "3.11.4"
  }
 },
 "nbformat": 4,
 "nbformat_minor": 5
}
