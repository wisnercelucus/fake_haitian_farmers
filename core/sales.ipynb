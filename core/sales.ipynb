{
 "cells": [
  {
   "cell_type": "code",
   "execution_count": 1,
   "id": "88f4bf16-66f8-403c-947b-dc1cbbe47e24",
   "metadata": {},
   "outputs": [],
   "source": [
    "#import antigravity\n",
    "import pandas as pd\n",
    "import math\n",
    "from typing import List\n",
    "from datetime import datetime\n",
    "from sqlalchemy import MetaData, Table, create_engine, text\n",
    "import matplotlib.pyplot as plt\n",
    "import seaborn as sns\n",
    "from datetime import date"
   ]
  },
  {
   "cell_type": "code",
   "execution_count": 2,
   "id": "882bad48-6ca9-44b3-8c5e-b3b58fb11545",
   "metadata": {},
   "outputs": [],
   "source": [
    "import sys\n",
    "import os"
   ]
  },
  {
   "cell_type": "code",
   "execution_count": 3,
   "id": "8a839e4b-5f41-4c61-8103-c8ddd9baf92f",
   "metadata": {},
   "outputs": [],
   "source": [
    "engine = create_engine('sqlite:///pare.db')"
   ]
  },
  {
   "cell_type": "code",
   "execution_count": 4,
   "id": "bd24e55c-7713-484c-a665-3e589e054258",
   "metadata": {},
   "outputs": [],
   "source": [
    "sys.path.append(os.path.join(os.path.dirname('__file__'), 'models'))\n",
    "sys.path.append(os.path.join(os.path.dirname('__file__'), 'scripts'))\n",
    "sys.path.append(os.path.join(os.path.dirname('__file__'), 'config'))"
   ]
  },
  {
   "cell_type": "code",
   "execution_count": 5,
   "id": "b726aaa1-fe06-4c95-82c5-ccf676d0d477",
   "metadata": {},
   "outputs": [],
   "source": [
    "from config.params import DEBUG"
   ]
  },
  {
   "cell_type": "code",
   "execution_count": 6,
   "id": "6bad89cf-c81f-4f69-b252-e93d57e6640d",
   "metadata": {},
   "outputs": [],
   "source": [
    "from scripts.utils import random_item, random_date, random_date_between, random_int, random_float, years_between"
   ]
  },
  {
   "cell_type": "code",
   "execution_count": 7,
   "id": "6c8523cd-54b6-4808-9067-a81ea2f77857",
   "metadata": {},
   "outputs": [],
   "source": [
    "from models.sale import Sale, TYPE_LIST\n",
    "from models.partner import Partner"
   ]
  },
  {
   "cell_type": "code",
   "execution_count": 8,
   "id": "092436c9-6650-44d3-89a4-5f0a67792cbb",
   "metadata": {},
   "outputs": [],
   "source": [
    "from scripts.constants import (JOINED_START_DATE, \n",
    "                                JOINED_END_DATE,)\n",
    "\n",
    "joined_start_date = JOINED_START_DATE\n",
    "joined_end_date = JOINED_END_DATE"
   ]
  },
  {
   "cell_type": "code",
   "execution_count": 9,
   "id": "2bf2926d-b8dc-4aef-9738-54860dcc2b3b",
   "metadata": {},
   "outputs": [],
   "source": [
    "partner_df = pd.read_sql('partners', con=engine)\n",
    "partner_list = partner_df.to_dict(orient='records')"
   ]
  },
  {
   "cell_type": "code",
   "execution_count": 10,
   "id": "f528a72f-e3aa-4011-ac77-dc1bf67231d4",
   "metadata": {},
   "outputs": [],
   "source": [
    "def calculate_total(qty: int, unit_price: float)-> float:\n",
    "    return qty * unit_price"
   ]
  },
  {
   "cell_type": "code",
   "execution_count": 11,
   "id": "5166a2fa-bc48-4e09-9ebd-c49d79e93b79",
   "metadata": {},
   "outputs": [],
   "source": [
    "#random_int(6752, 500000)"
   ]
  },
  {
   "cell_type": "code",
   "execution_count": 12,
   "id": "653f524e-1c7b-42a2-9c27-2be755bbbcf1",
   "metadata": {},
   "outputs": [
    {
     "data": {
      "text/plain": [
       "0"
      ]
     },
     "execution_count": 12,
     "metadata": {},
     "output_type": "execute_result"
    }
   ],
   "source": [
    "calculate_total(198, 0)"
   ]
  },
  {
   "cell_type": "code",
   "execution_count": 13,
   "id": "57f0063e-e500-4bd9-9a60-99c295db95b2",
   "metadata": {},
   "outputs": [],
   "source": [
    "def generate_sales():\n",
    "    sales_list = []\n",
    "    \n",
    "    for i in range(6500):\n",
    "        r_type = random_item(TYPE_LIST)\n",
    "        min_price_unit= r_type['min_price_unit']\n",
    "        max_price_unit= r_type['max_price_unit']\n",
    "        min_qty= r_type['min_qty']\n",
    "        max_qty= r_type['max_qty']\n",
    "        price_unit= random_float(min_price_unit, max_price_unit)\n",
    "        qty= random_int(min_qty, max_qty)\n",
    "        unit_price=price_unit\n",
    "        total=calculate_total(qty, unit_price)\n",
    "        partner = random_item(partner_list)\n",
    "        \n",
    "        #print(total)\n",
    "        sales_list.append( \n",
    "            Sale(\n",
    "            id=i,\n",
    "            partner_id=partner['id'],\n",
    "            partner_name=partner['name'],\n",
    "            type_of_product = r_type['name'],\n",
    "            date=random_date_between(joined_start_date, joined_end_date),\n",
    "            qty=qty,\n",
    "            currency=r_type['currency'],\n",
    "            unit=r_type['unit'],\n",
    "            unit_price=unit_price,\n",
    "            total=total,\n",
    "            total_usd = total /131.5\n",
    "        )\n",
    "        )\n",
    "    return sales_list"
   ]
  },
  {
   "cell_type": "code",
   "execution_count": 14,
   "id": "4218e75c-633f-4513-8f46-d14bee7faffb",
   "metadata": {},
   "outputs": [],
   "source": [
    "sales_list = generate_sales()"
   ]
  },
  {
   "cell_type": "code",
   "execution_count": 15,
   "id": "6a4f053b-aca9-4120-88ae-a99db5a85b58",
   "metadata": {},
   "outputs": [],
   "source": [
    "sales_list = [sale.dict() for sale in sales_list]"
   ]
  },
  {
   "cell_type": "code",
   "execution_count": 16,
   "id": "b093263d-9f2e-445d-9e3e-d974bad38699",
   "metadata": {},
   "outputs": [],
   "source": [
    "sale_df = pd.DataFrame(sales_list)"
   ]
  },
  {
   "cell_type": "code",
   "execution_count": 17,
   "id": "a31196e9-6a07-48c4-b2e5-b2779034eb7f",
   "metadata": {
    "scrolled": true
   },
   "outputs": [
    {
     "data": {
      "text/html": [
       "<div>\n",
       "<style scoped>\n",
       "    .dataframe tbody tr th:only-of-type {\n",
       "        vertical-align: middle;\n",
       "    }\n",
       "\n",
       "    .dataframe tbody tr th {\n",
       "        vertical-align: top;\n",
       "    }\n",
       "\n",
       "    .dataframe thead th {\n",
       "        text-align: right;\n",
       "    }\n",
       "</style>\n",
       "<table border=\"1\" class=\"dataframe\">\n",
       "  <thead>\n",
       "    <tr style=\"text-align: right;\">\n",
       "      <th></th>\n",
       "      <th>id</th>\n",
       "      <th>partner_id</th>\n",
       "      <th>participant_id</th>\n",
       "      <th>partner_name</th>\n",
       "      <th>type_of_product</th>\n",
       "      <th>date</th>\n",
       "      <th>currency</th>\n",
       "      <th>qty</th>\n",
       "      <th>unit_price</th>\n",
       "      <th>unit</th>\n",
       "      <th>total</th>\n",
       "      <th>total_usd</th>\n",
       "    </tr>\n",
       "  </thead>\n",
       "  <tbody>\n",
       "    <tr>\n",
       "      <th>0</th>\n",
       "      <td>0</td>\n",
       "      <td>57</td>\n",
       "      <td>None</td>\n",
       "      <td>Solution Boutique Agricole</td>\n",
       "      <td>Lait de vache</td>\n",
       "      <td>2024-06-19</td>\n",
       "      <td>HTG</td>\n",
       "      <td>15</td>\n",
       "      <td>548.951153</td>\n",
       "      <td>gallon</td>\n",
       "      <td>8.234267e+03</td>\n",
       "      <td>62.618002</td>\n",
       "    </tr>\n",
       "    <tr>\n",
       "      <th>1</th>\n",
       "      <td>1</td>\n",
       "      <td>13</td>\n",
       "      <td>None</td>\n",
       "      <td>THE CHOU FERME</td>\n",
       "      <td>Lait de vache</td>\n",
       "      <td>2027-06-22</td>\n",
       "      <td>HTG</td>\n",
       "      <td>7</td>\n",
       "      <td>490.707272</td>\n",
       "      <td>gallon</td>\n",
       "      <td>3.434951e+03</td>\n",
       "      <td>26.121300</td>\n",
       "    </tr>\n",
       "    <tr>\n",
       "      <th>2</th>\n",
       "      <td>2</td>\n",
       "      <td>212</td>\n",
       "      <td>None</td>\n",
       "      <td>Mouvement des Investisseurs de Camp-perrin</td>\n",
       "      <td>Mouton entier</td>\n",
       "      <td>2025-12-21</td>\n",
       "      <td>HTG</td>\n",
       "      <td>9</td>\n",
       "      <td>20027.046101</td>\n",
       "      <td>animal</td>\n",
       "      <td>1.802434e+05</td>\n",
       "      <td>1370.672357</td>\n",
       "    </tr>\n",
       "    <tr>\n",
       "      <th>3</th>\n",
       "      <td>3</td>\n",
       "      <td>39</td>\n",
       "      <td>None</td>\n",
       "      <td>AGROTECH</td>\n",
       "      <td>Volaille</td>\n",
       "      <td>2025-12-29</td>\n",
       "      <td>HTG</td>\n",
       "      <td>3230</td>\n",
       "      <td>1791.315227</td>\n",
       "      <td>animal</td>\n",
       "      <td>5.785948e+06</td>\n",
       "      <td>43999.605954</td>\n",
       "    </tr>\n",
       "    <tr>\n",
       "      <th>4</th>\n",
       "      <td>4</td>\n",
       "      <td>221</td>\n",
       "      <td>None</td>\n",
       "      <td>Ferme La Bellevue</td>\n",
       "      <td>Bovin entier</td>\n",
       "      <td>2026-05-22</td>\n",
       "      <td>HTG</td>\n",
       "      <td>6</td>\n",
       "      <td>344677.908208</td>\n",
       "      <td>animal</td>\n",
       "      <td>2.068067e+06</td>\n",
       "      <td>15726.748663</td>\n",
       "    </tr>\n",
       "  </tbody>\n",
       "</table>\n",
       "</div>"
      ],
      "text/plain": [
       "   id  partner_id participant_id                                partner_name  \\\n",
       "0   0          57           None                  Solution Boutique Agricole   \n",
       "1   1          13           None                              THE CHOU FERME   \n",
       "2   2         212           None  Mouvement des Investisseurs de Camp-perrin   \n",
       "3   3          39           None                                    AGROTECH   \n",
       "4   4         221           None                           Ferme La Bellevue   \n",
       "\n",
       "  type_of_product        date currency   qty     unit_price    unit  \\\n",
       "0   Lait de vache  2024-06-19      HTG    15     548.951153  gallon   \n",
       "1   Lait de vache  2027-06-22      HTG     7     490.707272  gallon   \n",
       "2   Mouton entier  2025-12-21      HTG     9   20027.046101  animal   \n",
       "3        Volaille  2025-12-29      HTG  3230    1791.315227  animal   \n",
       "4    Bovin entier  2026-05-22      HTG     6  344677.908208  animal   \n",
       "\n",
       "          total     total_usd  \n",
       "0  8.234267e+03     62.618002  \n",
       "1  3.434951e+03     26.121300  \n",
       "2  1.802434e+05   1370.672357  \n",
       "3  5.785948e+06  43999.605954  \n",
       "4  2.068067e+06  15726.748663  "
      ]
     },
     "execution_count": 17,
     "metadata": {},
     "output_type": "execute_result"
    }
   ],
   "source": [
    "sale_df.head()"
   ]
  },
  {
   "cell_type": "code",
   "execution_count": 18,
   "id": "2fdf9143-f2ac-4c8c-93bc-96d17c0b8dc3",
   "metadata": {},
   "outputs": [
    {
     "data": {
      "text/plain": [
       "71144467.76206161"
      ]
     },
     "execution_count": 18,
     "metadata": {},
     "output_type": "execute_result"
    }
   ],
   "source": [
    "sum(sale_df['total_usd'])"
   ]
  },
  {
   "cell_type": "code",
   "execution_count": 19,
   "id": "7fa3dae2-23e5-433c-ae10-00f8434867e1",
   "metadata": {},
   "outputs": [],
   "source": [
    "#sale_df.to_csv(\"./outputs/sales_1.csv\")"
   ]
  },
  {
   "cell_type": "code",
   "execution_count": 20,
   "id": "93064f55-8991-4bd3-b258-9611c691688b",
   "metadata": {},
   "outputs": [],
   "source": [
    "#sale_df.to_csv(\"./outputs/sales_2.csv\")"
   ]
  },
  {
   "cell_type": "code",
   "execution_count": 21,
   "id": "58cf1d12-4c56-47d8-b4f0-e645ee100a1a",
   "metadata": {},
   "outputs": [],
   "source": [
    "#sale_df.to_csv(\"./outputs/sales_3.csv\")"
   ]
  },
  {
   "cell_type": "code",
   "execution_count": 22,
   "id": "fa07c9a8-0da4-42c7-85f5-bb3ab219f272",
   "metadata": {},
   "outputs": [],
   "source": [
    "#sale_df.to_csv(\"./outputs/sales_4.csv\")"
   ]
  },
  {
   "cell_type": "code",
   "execution_count": 23,
   "id": "6f614755-46c8-407e-afad-c19ca2f14c16",
   "metadata": {},
   "outputs": [],
   "source": [
    "#sale_df.to_csv(\"./outputs/sales_5.csv\")"
   ]
  },
  {
   "cell_type": "code",
   "execution_count": 39,
   "id": "5e7d8e39-728f-4499-93f2-92d8f67d6f80",
   "metadata": {},
   "outputs": [],
   "source": [
    "#sale_df.to_csv(\"./outputs/sales_8_final_enterprise.csv\")"
   ]
  },
  {
   "cell_type": "code",
   "execution_count": 31,
   "id": "d4103b90-0f3a-4fa1-9685-25c6b8e1c6ed",
   "metadata": {},
   "outputs": [],
   "source": [
    "df = pd.read_csv(\"./outputs/sales_8_final_enterprise.csv\")"
   ]
  },
  {
   "cell_type": "code",
   "execution_count": 26,
   "id": "7b1e87da-0f29-4251-bde5-c13f7867881e",
   "metadata": {},
   "outputs": [],
   "source": [
    "#df['total_usd'] = [total / 131.5 for total in df['total']]"
   ]
  },
  {
   "cell_type": "code",
   "execution_count": 32,
   "id": "e1717d97-ac6d-4e04-8cb2-2e7a64adbc96",
   "metadata": {},
   "outputs": [
    {
     "data": {
      "text/html": [
       "<div>\n",
       "<style scoped>\n",
       "    .dataframe tbody tr th:only-of-type {\n",
       "        vertical-align: middle;\n",
       "    }\n",
       "\n",
       "    .dataframe tbody tr th {\n",
       "        vertical-align: top;\n",
       "    }\n",
       "\n",
       "    .dataframe thead th {\n",
       "        text-align: right;\n",
       "    }\n",
       "</style>\n",
       "<table border=\"1\" class=\"dataframe\">\n",
       "  <thead>\n",
       "    <tr style=\"text-align: right;\">\n",
       "      <th></th>\n",
       "      <th>Unnamed: 0</th>\n",
       "      <th>id</th>\n",
       "      <th>partner_id</th>\n",
       "      <th>participant_id</th>\n",
       "      <th>partner_name</th>\n",
       "      <th>type_of_product</th>\n",
       "      <th>date</th>\n",
       "      <th>currency</th>\n",
       "      <th>qty</th>\n",
       "      <th>unit_price</th>\n",
       "      <th>unit</th>\n",
       "      <th>total</th>\n",
       "      <th>total_usd</th>\n",
       "    </tr>\n",
       "  </thead>\n",
       "  <tbody>\n",
       "    <tr>\n",
       "      <th>0</th>\n",
       "      <td>0</td>\n",
       "      <td>0</td>\n",
       "      <td>57</td>\n",
       "      <td>NaN</td>\n",
       "      <td>Solution Boutique Agricole</td>\n",
       "      <td>Lait de vache</td>\n",
       "      <td>2024-06-19</td>\n",
       "      <td>HTG</td>\n",
       "      <td>15</td>\n",
       "      <td>548.951153</td>\n",
       "      <td>gallon</td>\n",
       "      <td>8.234267e+03</td>\n",
       "      <td>62.618002</td>\n",
       "    </tr>\n",
       "    <tr>\n",
       "      <th>1</th>\n",
       "      <td>1</td>\n",
       "      <td>1</td>\n",
       "      <td>13</td>\n",
       "      <td>NaN</td>\n",
       "      <td>THE CHOU FERME</td>\n",
       "      <td>Lait de vache</td>\n",
       "      <td>2027-06-22</td>\n",
       "      <td>HTG</td>\n",
       "      <td>7</td>\n",
       "      <td>490.707272</td>\n",
       "      <td>gallon</td>\n",
       "      <td>3.434951e+03</td>\n",
       "      <td>26.121300</td>\n",
       "    </tr>\n",
       "    <tr>\n",
       "      <th>2</th>\n",
       "      <td>2</td>\n",
       "      <td>2</td>\n",
       "      <td>212</td>\n",
       "      <td>NaN</td>\n",
       "      <td>Mouvement des Investisseurs de Camp-perrin</td>\n",
       "      <td>Mouton entier</td>\n",
       "      <td>2025-12-21</td>\n",
       "      <td>HTG</td>\n",
       "      <td>9</td>\n",
       "      <td>20027.046101</td>\n",
       "      <td>animal</td>\n",
       "      <td>1.802434e+05</td>\n",
       "      <td>1370.672357</td>\n",
       "    </tr>\n",
       "    <tr>\n",
       "      <th>3</th>\n",
       "      <td>3</td>\n",
       "      <td>3</td>\n",
       "      <td>39</td>\n",
       "      <td>NaN</td>\n",
       "      <td>AGROTECH</td>\n",
       "      <td>Volaille</td>\n",
       "      <td>2025-12-29</td>\n",
       "      <td>HTG</td>\n",
       "      <td>3230</td>\n",
       "      <td>1791.315227</td>\n",
       "      <td>animal</td>\n",
       "      <td>5.785948e+06</td>\n",
       "      <td>43999.605954</td>\n",
       "    </tr>\n",
       "    <tr>\n",
       "      <th>4</th>\n",
       "      <td>4</td>\n",
       "      <td>4</td>\n",
       "      <td>221</td>\n",
       "      <td>NaN</td>\n",
       "      <td>Ferme La Bellevue</td>\n",
       "      <td>Bovin entier</td>\n",
       "      <td>2026-05-22</td>\n",
       "      <td>HTG</td>\n",
       "      <td>6</td>\n",
       "      <td>344677.908208</td>\n",
       "      <td>animal</td>\n",
       "      <td>2.068067e+06</td>\n",
       "      <td>15726.748663</td>\n",
       "    </tr>\n",
       "  </tbody>\n",
       "</table>\n",
       "</div>"
      ],
      "text/plain": [
       "   Unnamed: 0  id  partner_id  participant_id  \\\n",
       "0           0   0          57             NaN   \n",
       "1           1   1          13             NaN   \n",
       "2           2   2         212             NaN   \n",
       "3           3   3          39             NaN   \n",
       "4           4   4         221             NaN   \n",
       "\n",
       "                                 partner_name type_of_product        date  \\\n",
       "0                  Solution Boutique Agricole   Lait de vache  2024-06-19   \n",
       "1                              THE CHOU FERME   Lait de vache  2027-06-22   \n",
       "2  Mouvement des Investisseurs de Camp-perrin   Mouton entier  2025-12-21   \n",
       "3                                    AGROTECH        Volaille  2025-12-29   \n",
       "4                           Ferme La Bellevue    Bovin entier  2026-05-22   \n",
       "\n",
       "  currency   qty     unit_price    unit         total     total_usd  \n",
       "0      HTG    15     548.951153  gallon  8.234267e+03     62.618002  \n",
       "1      HTG     7     490.707272  gallon  3.434951e+03     26.121300  \n",
       "2      HTG     9   20027.046101  animal  1.802434e+05   1370.672357  \n",
       "3      HTG  3230    1791.315227  animal  5.785948e+06  43999.605954  \n",
       "4      HTG     6  344677.908208  animal  2.068067e+06  15726.748663  "
      ]
     },
     "execution_count": 32,
     "metadata": {},
     "output_type": "execute_result"
    }
   ],
   "source": [
    "df.head()"
   ]
  },
  {
   "cell_type": "code",
   "execution_count": 28,
   "id": "7c4a599a-518b-498b-8452-700f05c371f4",
   "metadata": {},
   "outputs": [],
   "source": [
    "#sum(df['total']) / 131.750"
   ]
  },
  {
   "cell_type": "code",
   "execution_count": 40,
   "id": "5f86d7c5-764d-4f09-b8cb-b2a94fde2ac1",
   "metadata": {
    "scrolled": true
   },
   "outputs": [
    {
     "data": {
      "text/html": [
       "<div>\n",
       "<style scoped>\n",
       "    .dataframe tbody tr th:only-of-type {\n",
       "        vertical-align: middle;\n",
       "    }\n",
       "\n",
       "    .dataframe tbody tr th {\n",
       "        vertical-align: top;\n",
       "    }\n",
       "\n",
       "    .dataframe thead th {\n",
       "        text-align: right;\n",
       "    }\n",
       "</style>\n",
       "<table border=\"1\" class=\"dataframe\">\n",
       "  <thead>\n",
       "    <tr style=\"text-align: right;\">\n",
       "      <th></th>\n",
       "      <th>count</th>\n",
       "      <th>min</th>\n",
       "      <th>max</th>\n",
       "      <th>sum</th>\n",
       "    </tr>\n",
       "    <tr>\n",
       "      <th>type_of_product</th>\n",
       "      <th></th>\n",
       "      <th></th>\n",
       "      <th></th>\n",
       "      <th></th>\n",
       "    </tr>\n",
       "  </thead>\n",
       "  <tbody>\n",
       "    <tr>\n",
       "      <th>Bovin entier</th>\n",
       "      <td>828</td>\n",
       "      <td>5</td>\n",
       "      <td>15</td>\n",
       "      <td>8161</td>\n",
       "    </tr>\n",
       "    <tr>\n",
       "      <th>Lait de vache</th>\n",
       "      <td>796</td>\n",
       "      <td>5</td>\n",
       "      <td>50</td>\n",
       "      <td>22283</td>\n",
       "    </tr>\n",
       "    <tr>\n",
       "      <th>Mouton entier</th>\n",
       "      <td>794</td>\n",
       "      <td>5</td>\n",
       "      <td>25</td>\n",
       "      <td>11650</td>\n",
       "    </tr>\n",
       "    <tr>\n",
       "      <th>Oeufs</th>\n",
       "      <td>806</td>\n",
       "      <td>503</td>\n",
       "      <td>9970</td>\n",
       "      <td>4341164</td>\n",
       "    </tr>\n",
       "    <tr>\n",
       "      <th>Viande de bovin</th>\n",
       "      <td>801</td>\n",
       "      <td>26</td>\n",
       "      <td>7496</td>\n",
       "      <td>3177245</td>\n",
       "    </tr>\n",
       "    <tr>\n",
       "      <th>Viande de chèvre</th>\n",
       "      <td>830</td>\n",
       "      <td>15</td>\n",
       "      <td>3500</td>\n",
       "      <td>1471044</td>\n",
       "    </tr>\n",
       "    <tr>\n",
       "      <th>Viande de mouton</th>\n",
       "      <td>817</td>\n",
       "      <td>20</td>\n",
       "      <td>2496</td>\n",
       "      <td>985142</td>\n",
       "    </tr>\n",
       "    <tr>\n",
       "      <th>Volaille</th>\n",
       "      <td>828</td>\n",
       "      <td>23</td>\n",
       "      <td>5000</td>\n",
       "      <td>2047421</td>\n",
       "    </tr>\n",
       "  </tbody>\n",
       "</table>\n",
       "</div>"
      ],
      "text/plain": [
       "                  count  min   max      sum\n",
       "type_of_product                            \n",
       "Bovin entier        828    5    15     8161\n",
       "Lait de vache       796    5    50    22283\n",
       "Mouton entier       794    5    25    11650\n",
       "Oeufs               806  503  9970  4341164\n",
       "Viande de bovin     801   26  7496  3177245\n",
       "Viande de chèvre    830   15  3500  1471044\n",
       "Viande de mouton    817   20  2496   985142\n",
       "Volaille            828   23  5000  2047421"
      ]
     },
     "execution_count": 40,
     "metadata": {},
     "output_type": "execute_result"
    }
   ],
   "source": [
    "df.groupby([\"type_of_product\"]).qty.agg(['count', 'min', 'max', 'sum'])\n",
    "#df.shape"
   ]
  },
  {
   "cell_type": "code",
   "execution_count": 36,
   "id": "db2c276c-4272-44ae-b232-62db5933236d",
   "metadata": {},
   "outputs": [
    {
     "data": {
      "text/html": [
       "<div>\n",
       "<style scoped>\n",
       "    .dataframe tbody tr th:only-of-type {\n",
       "        vertical-align: middle;\n",
       "    }\n",
       "\n",
       "    .dataframe tbody tr th {\n",
       "        vertical-align: top;\n",
       "    }\n",
       "\n",
       "    .dataframe thead th {\n",
       "        text-align: right;\n",
       "    }\n",
       "</style>\n",
       "<table border=\"1\" class=\"dataframe\">\n",
       "  <thead>\n",
       "    <tr style=\"text-align: right;\">\n",
       "      <th></th>\n",
       "      <th>min</th>\n",
       "      <th>max</th>\n",
       "    </tr>\n",
       "    <tr>\n",
       "      <th>type_of_product</th>\n",
       "      <th></th>\n",
       "      <th></th>\n",
       "    </tr>\n",
       "  </thead>\n",
       "  <tbody>\n",
       "    <tr>\n",
       "      <th>Bovin entier</th>\n",
       "      <td>75029.530417</td>\n",
       "      <td>349837.889932</td>\n",
       "    </tr>\n",
       "    <tr>\n",
       "      <th>Lait de vache</th>\n",
       "      <td>450.013250</td>\n",
       "      <td>549.967147</td>\n",
       "    </tr>\n",
       "    <tr>\n",
       "      <th>Mouton entier</th>\n",
       "      <td>17516.011372</td>\n",
       "      <td>39988.650080</td>\n",
       "    </tr>\n",
       "    <tr>\n",
       "      <th>Oeufs</th>\n",
       "      <td>150.000682</td>\n",
       "      <td>199.996929</td>\n",
       "    </tr>\n",
       "    <tr>\n",
       "      <th>Viande de bovin</th>\n",
       "      <td>550.088227</td>\n",
       "      <td>699.596494</td>\n",
       "    </tr>\n",
       "    <tr>\n",
       "      <th>Viande de chèvre</th>\n",
       "      <td>650.391939</td>\n",
       "      <td>799.908568</td>\n",
       "    </tr>\n",
       "    <tr>\n",
       "      <th>Viande de mouton</th>\n",
       "      <td>570.109120</td>\n",
       "      <td>699.651698</td>\n",
       "    </tr>\n",
       "    <tr>\n",
       "      <th>Volaille</th>\n",
       "      <td>750.312261</td>\n",
       "      <td>1999.028437</td>\n",
       "    </tr>\n",
       "  </tbody>\n",
       "</table>\n",
       "</div>"
      ],
      "text/plain": [
       "                           min            max\n",
       "type_of_product                              \n",
       "Bovin entier      75029.530417  349837.889932\n",
       "Lait de vache       450.013250     549.967147\n",
       "Mouton entier     17516.011372   39988.650080\n",
       "Oeufs               150.000682     199.996929\n",
       "Viande de bovin     550.088227     699.596494\n",
       "Viande de chèvre    650.391939     799.908568\n",
       "Viande de mouton    570.109120     699.651698\n",
       "Volaille            750.312261    1999.028437"
      ]
     },
     "execution_count": 36,
     "metadata": {},
     "output_type": "execute_result"
    }
   ],
   "source": [
    "df.groupby([\"type_of_product\"]).unit_price.agg(['min', 'max'])"
   ]
  },
  {
   "cell_type": "code",
   "execution_count": 38,
   "id": "bf8d9553-bc2b-4fa3-8920-851dba5c3b03",
   "metadata": {},
   "outputs": [],
   "source": [
    "#df.groupby([\"partner_name\", \"type_of_product\"]).total_usd.agg(['count', 'min', 'max', 'sum'])"
   ]
  },
  {
   "cell_type": "code",
   "execution_count": null,
   "id": "df362b2c-cd46-4648-a5a9-906838392b9b",
   "metadata": {},
   "outputs": [],
   "source": []
  }
 ],
 "metadata": {
  "kernelspec": {
   "display_name": "Python 3 (ipykernel)",
   "language": "python",
   "name": "python3"
  },
  "language_info": {
   "codemirror_mode": {
    "name": "ipython",
    "version": 3
   },
   "file_extension": ".py",
   "mimetype": "text/x-python",
   "name": "python",
   "nbconvert_exporter": "python",
   "pygments_lexer": "ipython3",
   "version": "3.11.4"
  }
 },
 "nbformat": 4,
 "nbformat_minor": 5
}
